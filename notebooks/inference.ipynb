{
 "cells": [
  {
   "cell_type": "code",
   "execution_count": 1,
   "id": "8246fe62-b71c-432a-9749-af0de34b1517",
   "metadata": {},
   "outputs": [
    {
     "name": "stderr",
     "output_type": "stream",
     "text": [
      "<class 'monai.transforms.utility.array.AddChannel'>: Class `AddChannel` has been deprecated since version 0.8. please use MetaTensor data type and monai.transforms.EnsureChannelFirst instead.\n",
      "<class 'monai.transforms.utility.array.AsChannelFirst'>: Class `AsChannelFirst` has been deprecated since version 0.8. please use MetaTensor data type and monai.transforms.EnsureChannelFirst instead.\n"
     ]
    }
   ],
   "source": [
    "import torch\n",
    "import monai\n",
    "import numpy as np\n",
    "from src.constants import *\n",
    "from src.data.transforms import train_transform, test_transform, all_transforms\n",
    "import os"
   ]
  },
  {
   "cell_type": "code",
   "execution_count": null,
   "id": "228d2bea-7415-4082-8e65-99f27acb5d72",
   "metadata": {},
   "outputs": [
    {
     "name": "stderr",
     "output_type": "stream",
     "text": [
      "Loading dataset:   2%|▎         | 2/80 [01:33<51:56, 39.95s/it]  "
     ]
    }
   ],
   "source": [
    "\n",
    "filenames = os.listdir(DATA_PATH + \"/test_images\") + os.listdir(DATA_PATH + \"/images\")\n",
    "filenames = [f for f in filenames if 'mhd' in f]\n",
    "test_dataset = monai.data.CacheDataset(filenames, transform=all_transforms, num_workers=16)\n",
    "test_loader = monai.data.DataLoader(test_dataset, batch_size=1, shuffle=True)\n",
    "\n"
   ]
  },
  {
   "cell_type": "code",
   "execution_count": null,
   "id": "7def41e8-cb82-4e93-a1d6-b890ed5926f0",
   "metadata": {},
   "outputs": [],
   "source": [
    "model ="
   ]
  }
 ],
 "metadata": {
  "kernelspec": {
   "display_name": "Python 3 (ipykernel)",
   "language": "python",
   "name": "python3"
  },
  "language_info": {
   "codemirror_mode": {
    "name": "ipython",
    "version": 3
   },
   "file_extension": ".py",
   "mimetype": "text/x-python",
   "name": "python",
   "nbconvert_exporter": "python",
   "pygments_lexer": "ipython3",
   "version": "3.10.11"
  }
 },
 "nbformat": 4,
 "nbformat_minor": 5
}
