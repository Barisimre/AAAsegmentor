{
 "cells": [
  {
   "cell_type": "code",
   "execution_count": 14,
   "id": "8246fe62-b71c-432a-9749-af0de34b1517",
   "metadata": {},
   "outputs": [],
   "source": [
    "import torch\n",
    "import monai\n",
    "import numpy as np\n",
    "from src.constants import *\n",
    "from src.model.baselines import *\n",
    "from src.data.transforms import train_transform, test_transform, all_transforms\n",
    "import os\n",
    "import pickle\n",
    "from src.utils.metrics import *\n",
    "from scipy.spatial.distance import directed_hausdorff\n",
    "from tqdm import tqdm\n",
    "from src.model.my_model import MyModel\n"
   ]
  },
  {
   "cell_type": "code",
   "execution_count": 12,
   "id": "228d2bea-7415-4082-8e65-99f27acb5d72",
   "metadata": {},
   "outputs": [
    {
     "name": "stderr",
     "output_type": "stream",
     "text": [
      "Loading dataset: 100%|██████████| 10/10 [01:49<00:00, 10.96s/it]\n"
     ]
    }
   ],
   "source": [
    "\n",
    "filenames = os.listdir(DATA_PATH + \"/test_images\")\n",
    "filenames = [f for f in filenames if 'mhd' in f]\n",
    "test_dataset = monai.data.CacheDataset(filenames, transform=test_transform, num_workers=16)\n",
    "test_loader = monai.data.DataLoader(test_dataset, batch_size=1, shuffle=True)\n",
    "\n"
   ]
  },
  {
   "cell_type": "code",
   "execution_count": 15,
   "id": "7def41e8-cb82-4e93-a1d6-b890ed5926f0",
   "metadata": {},
   "outputs": [],
   "source": [
    "model = MyModel(in_channels=1,\n",
    "                out_channels=3,\n",
    "                lower_channels=16,\n",
    "                big_channel=16,\n",
    "                patch_size=8,\n",
    "                embed_dim=512,\n",
    "                mode=\"normal\",\n",
    "                old_embedder=False)"
   ]
  },
  {
   "cell_type": "code",
   "execution_count": 19,
   "id": "5b8307e7-deb5-4554-ba47-067a01144d9b",
   "metadata": {},
   "outputs": [
    {
     "data": {
      "text/plain": [
       "33928704"
      ]
     },
     "execution_count": 19,
     "metadata": {},
     "output_type": "execute_result"
    }
   ],
   "source": [
    "count_learnable_parameters(model.vit.vit)"
   ]
  },
  {
   "cell_type": "code",
   "execution_count": 20,
   "id": "c71e2d78-5c6a-4f79-a8c0-5378239ff6a9",
   "metadata": {},
   "outputs": [],
   "source": [
    "weights = torch.load(f\"{MODEL_SAVE_PATH}/new_16_512_0.8480931361516317.pt\")"
   ]
  },
  {
   "cell_type": "code",
   "execution_count": 21,
   "id": "2fd936ca-ba0c-46a9-98d1-03f52af8d45d",
   "metadata": {},
   "outputs": [
    {
     "data": {
      "text/plain": [
       "<All keys matched successfully>"
      ]
     },
     "execution_count": 21,
     "metadata": {},
     "output_type": "execute_result"
    }
   ],
   "source": [
    "model.load_state_dict(weights)"
   ]
  },
  {
   "cell_type": "code",
   "execution_count": 23,
   "id": "1ac9c405-ac20-4f47-8117-02b43c7187dd",
   "metadata": {},
   "outputs": [
    {
     "name": "stderr",
     "output_type": "stream",
     "text": [
      "100%|██████████| 160/160 [01:14<00:00,  2.16it/s]\n",
      "100%|██████████| 258/258 [01:55<00:00,  2.23it/s]\n",
      "100%|██████████| 258/258 [01:55<00:00,  2.24it/s]\n",
      "100%|██████████| 233/233 [01:46<00:00,  2.20it/s]\n",
      "100%|██████████| 282/282 [02:08<00:00,  2.20it/s]\n",
      "100%|██████████| 282/282 [02:06<00:00,  2.23it/s]\n",
      "100%|██████████| 184/184 [01:23<00:00,  2.21it/s]\n",
      "100%|██████████| 375/375 [02:50<00:00,  2.20it/s]\n",
      "100%|██████████| 196/196 [01:28<00:00,  2.22it/s]\n",
      "100%|██████████| 352/352 [02:39<00:00,  2.21it/s]\n"
     ]
    }
   ],
   "source": [
    "model.eval().cuda()\n",
    "outs = []\n",
    "\n",
    "largest_component = monai.transforms.KeepLargestConnectedComponent()\n",
    "\n",
    "visualised = False\n",
    "\n",
    "with torch.no_grad():\n",
    "    for d in test_loader:\n",
    "        img = d['img'].to(DEVICE)\n",
    "        mask = d['mask'].to(DEVICE)\n",
    "\n",
    "        out = monai.inferers.sliding_window_inference(img,\n",
    "                                                      roi_size=CROP_SIZE,\n",
    "                                                      sw_batch_size=BATCH_SIZE,\n",
    "                                                      predictor=model,\n",
    "                                                      overlap=0.75,\n",
    "                                                      sw_device=DEVICE,\n",
    "                                                      device=\"cpu\",\n",
    "                                                      progress=True,\n",
    "                                                      mode=\"constant\")\n",
    "        out = torch.argmax(out, 1, keepdim=True).to(DEVICE)\n",
    "        out_k = largest_component(out)\n",
    "        outs.append((img.detach().cpu().numpy(), mask.detach().cpu().numpy(), out.detach().cpu().numpy(), out_k.detach().cpu().numpy()))\n"
   ]
  },
  {
   "cell_type": "code",
   "execution_count": 5,
   "id": "c5f5b2ac-e98f-4067-a2dd-40c0a4288208",
   "metadata": {},
   "outputs": [],
   "source": [
    "def compute_hausdorff_distance(mask1, mask2, spacing):\n",
    "    \"\"\"\n",
    "    Compute the Hausdorff distance between two 3D masks for each class\n",
    "\n",
    "    :param mask1: The first 3D mask\n",
    "    :param mask2: The second 3D mask\n",
    "    :param spacing: The pixel spacing\n",
    "    :return: A list of Hausdorff distances for each class\n",
    "    \"\"\"\n",
    "\n",
    "    # Compute the Hausdorff distance for each class\n",
    "    hausdorff_distances = []\n",
    "    for c in [1, 2]:\n",
    "        mask1_c = (mask1 == c)\n",
    "        mask2_c = (mask2 == c)\n",
    "\n",
    "        # Get the coordinates of the non-zero elements\n",
    "        mask1_coords = np.array(np.nonzero(mask1_c)).T\n",
    "        mask2_coords = np.array(np.nonzero(mask2_c)).T\n",
    "\n",
    "        # Apply spacing to the coordinates\n",
    "        mask1_coords = mask1_coords * spacing\n",
    "        mask2_coords = mask2_coords * spacing\n",
    "\n",
    "        # Compute the Hausdorff distance\n",
    "        hd_c = max(directed_hausdorff(mask1_coords, mask2_coords)[0], directed_hausdorff(mask2_coords, mask1_coords)[0])\n",
    "        hausdorff_distances.append(hd_c)\n",
    "\n",
    "    return hausdorff_distances"
   ]
  },
  {
   "cell_type": "code",
   "execution_count": 28,
   "id": "1c961818-6013-4e36-a76d-8ff6725015cf",
   "metadata": {},
   "outputs": [],
   "source": [
    "# o = [np.array(x) for x in outs]\n",
    "# oo = [np.squeeze(x, axis=(1,2)) for x in o]\n",
    "pickle.dump(oo, open(f\"{RESULTS_SAVE_PATH}/Mine/1.p\", \"wb\"))\n",
    "# oo = pickle.load(open(f\"{RESULTS_SAVE_PATH}/Mine/1.p\", \"rb\"))"
   ]
  },
  {
   "cell_type": "code",
   "execution_count": 33,
   "id": "17787725-caf1-4bd1-8e63-82561c6e5f73",
   "metadata": {},
   "outputs": [
    {
     "name": "stderr",
     "output_type": "stream",
     "text": [
      "100%|██████████| 10/10 [00:23<00:00,  2.31s/it]\n"
     ]
    }
   ],
   "source": [
    "dss = []\n",
    "hss = []\n",
    "for img, mask, pred, pred_k in tqdm(oo):\n",
    "\n",
    "    d = dice_scores(torch.tensor(pred_k), torch.tensor(mask))\n",
    "    if 0 in d:\n",
    "        continue\n",
    "    dss.append(d)\n",
    "    h = compute_hausdorff_distance(pred_k, mask, (0.9, 1.2, 1.2))\n",
    "    hss.append(h)\n",
    "\n",
    "ds = np.array(ds)\n",
    "hs = np.array(hs)"
   ]
  },
  {
   "cell_type": "code",
   "execution_count": 36,
   "id": "5c75b2a0-94f3-455a-b7ac-9d11c0af8c1d",
   "metadata": {},
   "outputs": [
    {
     "data": {
      "text/plain": [
       "array([38.73370325, 73.41376718])"
      ]
     },
     "execution_count": 36,
     "metadata": {},
     "output_type": "execute_result"
    }
   ],
   "source": [
    "sum(hss)/len(hss)"
   ]
  },
  {
   "cell_type": "code",
   "execution_count": 37,
   "id": "3225bf1d-ac4e-4ca0-ad4f-67e78e018ad9",
   "metadata": {},
   "outputs": [
    {
     "data": {
      "text/plain": [
       "array([0.99948896, 0.89298643, 0.68924108])"
      ]
     },
     "execution_count": 37,
     "metadata": {},
     "output_type": "execute_result"
    }
   ],
   "source": [
    "sum(dss)/len(dss)"
   ]
  },
  {
   "cell_type": "code",
   "execution_count": 31,
   "id": "0143a140-10bc-488a-aad9-f102ea738f2e",
   "metadata": {},
   "outputs": [
    {
     "data": {
      "text/plain": [
       "array([38.73370325, 73.41376718])"
      ]
     },
     "execution_count": 31,
     "metadata": {},
     "output_type": "execute_result"
    }
   ],
   "source": [
    "sum(hs)/len(hs)"
   ]
  },
  {
   "cell_type": "code",
   "execution_count": 32,
   "id": "7f95db91-be0c-4f9d-a878-5a4c7d3a4a40",
   "metadata": {},
   "outputs": [
    {
     "data": {
      "text/plain": [
       "array([0.99948896, 0.89298643, 0.68924108])"
      ]
     },
     "execution_count": 32,
     "metadata": {},
     "output_type": "execute_result"
    }
   ],
   "source": [
    "sum(ds)/len(ds)"
   ]
  },
  {
   "cell_type": "code",
   "execution_count": 34,
   "id": "92b7b9c5-c9d0-4071-989e-eb3792d43cc3",
   "metadata": {},
   "outputs": [
    {
     "data": {
      "text/plain": [
       "[array([0.99968851, 0.86870039, 0.91003674]),\n",
       " array([0.99982315, 0.89850169, 0.88186651]),\n",
       " array([0.99941486, 0.91398263, 0.81243449]),\n",
       " array([0.9997856 , 0.94104505, 0.73159832]),\n",
       " array([0.99947208, 0.89753211, 0.68503189]),\n",
       " array([0.99918985, 0.8170439 , 0.58518022]),\n",
       " array([0.99935842, 0.90222538, 0.39258048]),\n",
       " array([0.99917918, 0.90486032, 0.51519996])]"
      ]
     },
     "execution_count": 34,
     "metadata": {},
     "output_type": "execute_result"
    }
   ],
   "source": [
    "dss"
   ]
  },
  {
   "cell_type": "code",
   "execution_count": null,
   "id": "2261a4c2-4513-47ac-bee8-a724e4750954",
   "metadata": {},
   "outputs": [],
   "source": []
  }
 ],
 "metadata": {
  "kernelspec": {
   "display_name": "Python 3 (ipykernel)",
   "language": "python",
   "name": "python3"
  },
  "language_info": {
   "codemirror_mode": {
    "name": "ipython",
    "version": 3
   },
   "file_extension": ".py",
   "mimetype": "text/x-python",
   "name": "python",
   "nbconvert_exporter": "python",
   "pygments_lexer": "ipython3",
   "version": "3.10.11"
  }
 },
 "nbformat": 4,
 "nbformat_minor": 5
}
