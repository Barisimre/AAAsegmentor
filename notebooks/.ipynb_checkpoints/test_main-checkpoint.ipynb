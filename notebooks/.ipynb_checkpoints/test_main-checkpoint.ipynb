{
 "cells": [
  {
   "cell_type": "code",
   "execution_count": 1,
   "id": "041dea25-157a-481d-bde4-1ce7ee147bc5",
   "metadata": {},
   "outputs": [
    {
     "name": "stderr",
     "output_type": "stream",
     "text": [
      "<class 'monai.transforms.utility.array.AddChannel'>: Class `AddChannel` has been deprecated since version 0.8. please use MetaTensor data type and monai.transforms.EnsureChannelFirst instead.\n",
      "<class 'monai.transforms.utility.array.AsChannelFirst'>: Class `AsChannelFirst` has been deprecated since version 0.8. please use MetaTensor data type and monai.transforms.EnsureChannelFirst instead.\n"
     ]
    }
   ],
   "source": [
    "from src.constants import *\n",
    "from src.model.baselines import *\n",
    "from src.data.data_loaders import get_loaders\n",
    "from src.training.train import train_single_epoch\n",
    "from src.training.test import test_single_epoch\n",
    "import wandb\n",
    "from tqdm import tqdm"
   ]
  },
  {
   "cell_type": "code",
   "execution_count": 2,
   "id": "730cdb9e-336c-4f29-83bb-e9fd91cc79a9",
   "metadata": {},
   "outputs": [],
   "source": [
    "model = UNet.to(DEVICE)\n",
    "\n",
    "optimizer = torch.optim.Adam(params=model.parameters(), lr=INITIAL_LEARNING_RATE)\n",
    "scheduler = torch.optim.lr_scheduler.ReduceLROnPlateau(optimizer=optimizer, cooldown=0, patience=2, factor=0.5)"
   ]
  },
  {
   "cell_type": "code",
   "execution_count": 3,
   "id": "2907db75-55dd-48fc-9e78-56e128df785d",
   "metadata": {},
   "outputs": [
    {
     "name": "stderr",
     "output_type": "stream",
     "text": [
      "Loading dataset:  64%|██████▍   | 45/70 [06:21<03:13,  7.73s/it]IOStream.flush timed out\n",
      "Loading dataset: 100%|██████████| 70/70 [07:31<00:00,  6.45s/it]\n",
      "IOStream.flush timed out\n",
      "Loading dataset: 100%|██████████| 10/10 [00:24<00:00,  2.40s/it]\n"
     ]
    }
   ],
   "source": [
    "train_loader, test_loader = get_loaders()\n"
   ]
  },
  {
   "cell_type": "code",
   "execution_count": 6,
   "id": "c787b336-81c5-491b-ab1f-67c5ed53ef3a",
   "metadata": {},
   "outputs": [
    {
     "name": "stdout",
     "output_type": "stream",
     "text": [
      "CPU times: user 7min 9s, sys: 3min 19s, total: 10min 28s\n",
      "Wall time: 3min 44s\n"
     ]
    }
   ],
   "source": [
    "%%time\n",
    "for _ in range(5):\n",
    "    a = next(iter(train_loader))['img'].shape"
   ]
  },
  {
   "cell_type": "code",
   "execution_count": 4,
   "id": "9f9ec578-97ae-4da9-bd93-42da17aeb266",
   "metadata": {},
   "outputs": [
    {
     "name": "stderr",
     "output_type": "stream",
     "text": [
      "\n",
      "KeyboardInterrupt\n",
      "\n"
     ]
    }
   ],
   "source": [
    "%%time\n",
    "train_single_epoch(model=model, optimizer=optimizer, train_loader=train_loader)"
   ]
  },
  {
   "cell_type": "code",
   "execution_count": null,
   "id": "6b608e16-f6ad-4c56-aff1-3776ab30d74b",
   "metadata": {},
   "outputs": [],
   "source": []
  }
 ],
 "metadata": {
  "kernelspec": {
   "display_name": "Python 3 (ipykernel)",
   "language": "python",
   "name": "python3"
  },
  "language_info": {
   "codemirror_mode": {
    "name": "ipython",
    "version": 3
   },
   "file_extension": ".py",
   "mimetype": "text/x-python",
   "name": "python",
   "nbconvert_exporter": "python",
   "pygments_lexer": "ipython3",
   "version": "3.10.4"
  }
 },
 "nbformat": 4,
 "nbformat_minor": 5
}
