{
 "cells": [
  {
   "cell_type": "code",
   "execution_count": 1,
   "id": "8246fe62-b71c-432a-9749-af0de34b1517",
   "metadata": {},
   "outputs": [
    {
     "name": "stderr",
     "output_type": "stream",
     "text": [
      "<class 'monai.transforms.utility.array.AddChannel'>: Class `AddChannel` has been deprecated since version 0.8. please use MetaTensor data type and monai.transforms.EnsureChannelFirst instead.\n",
      "<class 'monai.transforms.utility.array.AsChannelFirst'>: Class `AsChannelFirst` has been deprecated since version 0.8. please use MetaTensor data type and monai.transforms.EnsureChannelFirst instead.\n"
     ]
    }
   ],
   "source": [
    "import torch\n",
    "import monai\n",
    "import numpy as np\n",
    "from src.constants import *\n",
    "from src.data.transforms import train_transform, test_transform, all_transforms\n",
    "import os"
   ]
  },
  {
   "cell_type": "code",
   "execution_count": 2,
   "id": "228d2bea-7415-4082-8e65-99f27acb5d72",
   "metadata": {},
   "outputs": [
    {
     "name": "stderr",
     "output_type": "stream",
     "text": [
      "Loading dataset:   9%|▉         | 7/80 [03:09<31:35, 25.97s/it]  IOStream.flush timed out\n",
      "Loading dataset:  10%|█         | 8/80 [03:26<31:23, 26.16s/it]IOStream.flush timed out\n",
      "Loading dataset:  11%|█▏        | 9/80 [04:15<31:14, 26.41s/it]IOStream.flush timed out\n",
      "Loading dataset:  16%|█▋        | 13/80 [05:10<19:54, 17.83s/it]IOStream.flush timed out\n",
      "Loading dataset:  19%|█▉        | 15/80 [05:31<15:21, 14.18s/it]IOStream.flush timed out\n",
      "Loading dataset: 100%|██████████| 80/80 [05:38<00:00,  4.24s/it]\n"
     ]
    }
   ],
   "source": [
    "\n",
    "filenames = os.listdir(DATA_PATH + \"/test_images\") + os.listdir(DATA_PATH + \"/images\")\n",
    "filenames = [f for f in filenames if 'mhd' in f]\n",
    "test_dataset = monai.data.CacheDataset(filenames, transform=all_transforms, num_workers=16)\n",
    "test_loader = monai.data.DataLoader(test_dataset, batch_size=1, shuffle=True)\n",
    "\n"
   ]
  },
  {
   "cell_type": "code",
   "execution_count": 3,
   "id": "d5ef66aa-5f5f-430c-b434-16d78e9196a4",
   "metadata": {},
   "outputs": [],
   "source": [
    "# for a in test_loader:\n",
    "#     zero = torch.sum(a['mask'] == 0)\n",
    "#     one = torch.sum(a['mask'] == 1)\n",
    "#     two = torch.sum(a['mask'] == 2)\n",
    "    \n",
    "#     counts.append([zero, one, two])\n",
    "    "
   ]
  },
  {
   "cell_type": "code",
   "execution_count": 4,
   "id": "56a049a2-e603-41c0-8048-a1ab70c94f22",
   "metadata": {},
   "outputs": [],
   "source": [
    "# cs = np.array(counts)"
   ]
  },
  {
   "cell_type": "code",
   "execution_count": 5,
   "id": "7c01b7c0-f0c3-4a4f-b545-43a853f134bf",
   "metadata": {},
   "outputs": [],
   "source": [
    "# fore_ground_versus_background = np.array([(c[1] + c[2])/c[0] for c in cs])"
   ]
  },
  {
   "cell_type": "code",
   "execution_count": 6,
   "id": "a71cc485-6175-4b45-afc8-d5f15cb70cc2",
   "metadata": {},
   "outputs": [],
   "source": [
    "# np.save(open(\"fvsb_cut.npy\", \"wb\"), fore_ground_versus_background)"
   ]
  },
  {
   "cell_type": "code",
   "execution_count": 7,
   "id": "33eaef99-2c05-4d7e-a47b-d87b45834649",
   "metadata": {},
   "outputs": [],
   "source": [
    "# fore_ground_versus_background"
   ]
  },
  {
   "cell_type": "code",
   "execution_count": 8,
   "id": "06704be2-2e03-49ff-a4e3-a9ee75447fd5",
   "metadata": {},
   "outputs": [],
   "source": [
    "# other = np.load(\"stats/fvsb_uncut.npy\")"
   ]
  },
  {
   "cell_type": "code",
   "execution_count": 9,
   "id": "8688d892-aabb-4dea-95b5-a2841a6e04b0",
   "metadata": {},
   "outputs": [],
   "source": [
    "# fore_ground_versus_background / other"
   ]
  },
  {
   "cell_type": "code",
   "execution_count": 21,
   "id": "372f8113-ae59-4949-ad5c-264eb8616e52",
   "metadata": {},
   "outputs": [
    {
     "data": {
      "text/plain": [
       "tensor([-0.7207, -0.7207,  0.5000], dtype=torch.float64)"
      ]
     },
     "metadata": {},
     "output_type": "display_data"
    },
    {
     "data": {
      "text/plain": [
       "tensor([-0.7812, -0.7812,  0.5000], dtype=torch.float64)"
      ]
     },
     "metadata": {},
     "output_type": "display_data"
    },
    {
     "data": {
      "text/plain": [
       "tensor([-0.6836, -0.6836,  0.5000], dtype=torch.float64)"
      ]
     },
     "metadata": {},
     "output_type": "display_data"
    },
    {
     "data": {
      "text/plain": [
       "tensor([-0.9336, -0.9336,  0.7000], dtype=torch.float64)"
      ]
     },
     "metadata": {},
     "output_type": "display_data"
    },
    {
     "data": {
      "text/plain": [
       "tensor([-0.7812, -0.7812,  0.5000], dtype=torch.float64)"
      ]
     },
     "metadata": {},
     "output_type": "display_data"
    },
    {
     "data": {
      "text/plain": [
       "tensor([-0.7090, -0.7090,  0.7000], dtype=torch.float64)"
      ]
     },
     "metadata": {},
     "output_type": "display_data"
    },
    {
     "data": {
      "text/plain": [
       "tensor([-0.7949, -0.7949,  0.7000], dtype=torch.float64)"
      ]
     },
     "metadata": {},
     "output_type": "display_data"
    },
    {
     "data": {
      "text/plain": [
       "tensor([-0.6914, -0.6914,  0.5000], dtype=torch.float64)"
      ]
     },
     "metadata": {},
     "output_type": "display_data"
    },
    {
     "data": {
      "text/plain": [
       "tensor([-0.6836, -0.6836,  0.5000], dtype=torch.float64)"
      ]
     },
     "metadata": {},
     "output_type": "display_data"
    },
    {
     "data": {
      "text/plain": [
       "tensor([-0.7227, -0.7227,  0.5000], dtype=torch.float64)"
      ]
     },
     "metadata": {},
     "output_type": "display_data"
    },
    {
     "data": {
      "text/plain": [
       "tensor([-0.6836, -0.6836,  0.5000], dtype=torch.float64)"
      ]
     },
     "metadata": {},
     "output_type": "display_data"
    },
    {
     "data": {
      "text/plain": [
       "tensor([-0.7812, -0.7812,  0.5000], dtype=torch.float64)"
      ]
     },
     "metadata": {},
     "output_type": "display_data"
    },
    {
     "data": {
      "text/plain": [
       "tensor([-0.7266, -0.7266,  0.5000], dtype=torch.float64)"
      ]
     },
     "metadata": {},
     "output_type": "display_data"
    },
    {
     "data": {
      "text/plain": [
       "tensor([-0.9219, -0.9219,  0.5000], dtype=torch.float64)"
      ]
     },
     "metadata": {},
     "output_type": "display_data"
    },
    {
     "data": {
      "text/plain": [
       "tensor([-0.6973, -0.6973,  0.7000], dtype=torch.float64)"
      ]
     },
     "metadata": {},
     "output_type": "display_data"
    },
    {
     "data": {
      "text/plain": [
       "tensor([-0.7820, -0.7820,  2.0000], dtype=torch.float64)"
      ]
     },
     "metadata": {},
     "output_type": "display_data"
    },
    {
     "data": {
      "text/plain": [
       "tensor([-0.7148, -0.7148,  0.7000], dtype=torch.float64)"
      ]
     },
     "metadata": {},
     "output_type": "display_data"
    },
    {
     "data": {
      "text/plain": [
       "tensor([-0.6836, -0.6836,  0.5000], dtype=torch.float64)"
      ]
     },
     "metadata": {},
     "output_type": "display_data"
    },
    {
     "data": {
      "text/plain": [
       "tensor([-0.6387, -0.6387,  0.7000], dtype=torch.float64)"
      ]
     },
     "metadata": {},
     "output_type": "display_data"
    },
    {
     "data": {
      "text/plain": [
       "tensor([-0.9766, -0.9766,  0.7000], dtype=torch.float64)"
      ]
     },
     "metadata": {},
     "output_type": "display_data"
    },
    {
     "data": {
      "text/plain": [
       "tensor([-0.8184, -0.8184,  0.7000], dtype=torch.float64)"
      ]
     },
     "metadata": {},
     "output_type": "display_data"
    },
    {
     "data": {
      "text/plain": [
       "tensor([-0.7148, -0.7148,  0.7000], dtype=torch.float64)"
      ]
     },
     "metadata": {},
     "output_type": "display_data"
    },
    {
     "data": {
      "text/plain": [
       "tensor([-0.8984, -0.8984,  0.7000], dtype=torch.float64)"
      ]
     },
     "metadata": {},
     "output_type": "display_data"
    },
    {
     "data": {
      "text/plain": [
       "tensor([-0.7031, -0.7031,  0.5000], dtype=torch.float64)"
      ]
     },
     "metadata": {},
     "output_type": "display_data"
    },
    {
     "data": {
      "text/plain": [
       "tensor([-0.8027, -0.8027,  0.5000], dtype=torch.float64)"
      ]
     },
     "metadata": {},
     "output_type": "display_data"
    },
    {
     "data": {
      "text/plain": [
       "tensor([-0.7812, -0.7812,  0.5000], dtype=torch.float64)"
      ]
     },
     "metadata": {},
     "output_type": "display_data"
    },
    {
     "data": {
      "text/plain": [
       "tensor([-0.7793, -0.7793,  0.5000], dtype=torch.float64)"
      ]
     },
     "metadata": {},
     "output_type": "display_data"
    },
    {
     "data": {
      "text/plain": [
       "tensor([-0.7422, -0.7422,  0.5000], dtype=torch.float64)"
      ]
     },
     "metadata": {},
     "output_type": "display_data"
    },
    {
     "data": {
      "text/plain": [
       "tensor([-0.7422, -0.7422,  0.8000], dtype=torch.float64)"
      ]
     },
     "metadata": {},
     "output_type": "display_data"
    },
    {
     "data": {
      "text/plain": [
       "tensor([-0.7812, -0.7812,  0.5000], dtype=torch.float64)"
      ]
     },
     "metadata": {},
     "output_type": "display_data"
    },
    {
     "data": {
      "text/plain": [
       "tensor([-0.7812, -0.7812,  0.6250], dtype=torch.float64)"
      ]
     },
     "metadata": {},
     "output_type": "display_data"
    },
    {
     "data": {
      "text/plain": [
       "tensor([-0.6836, -0.6836,  0.5000], dtype=torch.float64)"
      ]
     },
     "metadata": {},
     "output_type": "display_data"
    },
    {
     "data": {
      "text/plain": [
       "tensor([-0.7812, -0.7812,  0.5000], dtype=torch.float64)"
      ]
     },
     "metadata": {},
     "output_type": "display_data"
    },
    {
     "data": {
      "text/plain": [
       "tensor([-0.7539, -0.7539,  0.4500], dtype=torch.float64)"
      ]
     },
     "metadata": {},
     "output_type": "display_data"
    },
    {
     "data": {
      "text/plain": [
       "tensor([-0.8340, -0.8340,  0.6250], dtype=torch.float64)"
      ]
     },
     "metadata": {},
     "output_type": "display_data"
    },
    {
     "data": {
      "text/plain": [
       "tensor([-0.6680, -0.6680,  0.7000], dtype=torch.float64)"
      ]
     },
     "metadata": {},
     "output_type": "display_data"
    },
    {
     "data": {
      "text/plain": [
       "tensor([-0.7031, -0.7031,  0.6250], dtype=torch.float64)"
      ]
     },
     "metadata": {},
     "output_type": "display_data"
    },
    {
     "data": {
      "text/plain": [
       "tensor([-0.8086, -0.8086,  0.5000], dtype=torch.float64)"
      ]
     },
     "metadata": {},
     "output_type": "display_data"
    },
    {
     "data": {
      "text/plain": [
       "tensor([-0.7031, -0.7031,  0.6250], dtype=torch.float64)"
      ]
     },
     "metadata": {},
     "output_type": "display_data"
    },
    {
     "data": {
      "text/plain": [
       "tensor([-0.7240, -0.7240,  0.8000], dtype=torch.float64)"
      ]
     },
     "metadata": {},
     "output_type": "display_data"
    },
    {
     "data": {
      "text/plain": [
       "tensor([-0.7480, -0.7480,  0.5000], dtype=torch.float64)"
      ]
     },
     "metadata": {},
     "output_type": "display_data"
    },
    {
     "data": {
      "text/plain": [
       "tensor([-0.9121, -0.9121,  0.5000], dtype=torch.float64)"
      ]
     },
     "metadata": {},
     "output_type": "display_data"
    },
    {
     "data": {
      "text/plain": [
       "tensor([-0.7422, -0.7422,  0.8000], dtype=torch.float64)"
      ]
     },
     "metadata": {},
     "output_type": "display_data"
    },
    {
     "data": {
      "text/plain": [
       "tensor([-0.8457, -0.8457,  0.5005], dtype=torch.float64)"
      ]
     },
     "metadata": {},
     "output_type": "display_data"
    },
    {
     "data": {
      "text/plain": [
       "tensor([-0.6953, -0.6953,  0.7000], dtype=torch.float64)"
      ]
     },
     "metadata": {},
     "output_type": "display_data"
    },
    {
     "data": {
      "text/plain": [
       "tensor([-0.7832, -0.7832,  0.5000], dtype=torch.float64)"
      ]
     },
     "metadata": {},
     "output_type": "display_data"
    },
    {
     "data": {
      "text/plain": [
       "tensor([-0.7461, -0.7461,  0.7000], dtype=torch.float64)"
      ]
     },
     "metadata": {},
     "output_type": "display_data"
    },
    {
     "data": {
      "text/plain": [
       "tensor([-0.7148, -0.7148,  0.7000], dtype=torch.float64)"
      ]
     },
     "metadata": {},
     "output_type": "display_data"
    },
    {
     "data": {
      "text/plain": [
       "tensor([-0.7812, -0.7812,  0.5000], dtype=torch.float64)"
      ]
     },
     "metadata": {},
     "output_type": "display_data"
    },
    {
     "data": {
      "text/plain": [
       "tensor([-0.8164, -0.8164,  0.5000], dtype=torch.float64)"
      ]
     },
     "metadata": {},
     "output_type": "display_data"
    },
    {
     "data": {
      "text/plain": [
       "tensor([-0.7578, -0.7578,  1.0000], dtype=torch.float64)"
      ]
     },
     "metadata": {},
     "output_type": "display_data"
    },
    {
     "data": {
      "text/plain": [
       "tensor([-0.6250, -0.6250,  0.5000], dtype=torch.float64)"
      ]
     },
     "metadata": {},
     "output_type": "display_data"
    },
    {
     "data": {
      "text/plain": [
       "tensor([-0.7812, -0.7812,  0.5000], dtype=torch.float64)"
      ]
     },
     "metadata": {},
     "output_type": "display_data"
    },
    {
     "data": {
      "text/plain": [
       "tensor([-0.8555, -0.8555,  0.5000], dtype=torch.float64)"
      ]
     },
     "metadata": {},
     "output_type": "display_data"
    },
    {
     "data": {
      "text/plain": [
       "tensor([-0.7227, -0.7227,  0.5000], dtype=torch.float64)"
      ]
     },
     "metadata": {},
     "output_type": "display_data"
    },
    {
     "data": {
      "text/plain": [
       "tensor([-0.6055, -0.6055,  0.5000], dtype=torch.float64)"
      ]
     },
     "metadata": {},
     "output_type": "display_data"
    },
    {
     "data": {
      "text/plain": [
       "tensor([-0.7793, -0.7793,  0.5000], dtype=torch.float64)"
      ]
     },
     "metadata": {},
     "output_type": "display_data"
    },
    {
     "data": {
      "text/plain": [
       "tensor([-0.8184, -0.8184,  0.4500], dtype=torch.float64)"
      ]
     },
     "metadata": {},
     "output_type": "display_data"
    },
    {
     "data": {
      "text/plain": [
       "tensor([-0.7891, -0.7891,  0.8000], dtype=torch.float64)"
      ]
     },
     "metadata": {},
     "output_type": "display_data"
    },
    {
     "data": {
      "text/plain": [
       "tensor([-0.7012, -0.7012,  1.0000], dtype=torch.float64)"
      ]
     },
     "metadata": {},
     "output_type": "display_data"
    },
    {
     "data": {
      "text/plain": [
       "tensor([-0.8984, -0.8984,  0.7000], dtype=torch.float64)"
      ]
     },
     "metadata": {},
     "output_type": "display_data"
    },
    {
     "data": {
      "text/plain": [
       "tensor([-0.9062, -0.9062,  0.7000], dtype=torch.float64)"
      ]
     },
     "metadata": {},
     "output_type": "display_data"
    },
    {
     "data": {
      "text/plain": [
       "tensor([-0.6035, -0.6035,  0.5000], dtype=torch.float64)"
      ]
     },
     "metadata": {},
     "output_type": "display_data"
    },
    {
     "data": {
      "text/plain": [
       "tensor([-0.8789, -0.8789,  0.5000], dtype=torch.float64)"
      ]
     },
     "metadata": {},
     "output_type": "display_data"
    },
    {
     "data": {
      "text/plain": [
       "tensor([-0.7578, -0.7578,  0.5000], dtype=torch.float64)"
      ]
     },
     "metadata": {},
     "output_type": "display_data"
    },
    {
     "data": {
      "text/plain": [
       "tensor([-0.9766, -0.9766,  0.8000], dtype=torch.float64)"
      ]
     },
     "metadata": {},
     "output_type": "display_data"
    },
    {
     "data": {
      "text/plain": [
       "tensor([-0.7812, -0.7812,  0.5000], dtype=torch.float64)"
      ]
     },
     "metadata": {},
     "output_type": "display_data"
    },
    {
     "data": {
      "text/plain": [
       "tensor([-0.8242, -0.8242,  0.7000], dtype=torch.float64)"
      ]
     },
     "metadata": {},
     "output_type": "display_data"
    },
    {
     "data": {
      "text/plain": [
       "tensor([-0.7793, -0.7793,  0.5000], dtype=torch.float64)"
      ]
     },
     "metadata": {},
     "output_type": "display_data"
    },
    {
     "data": {
      "text/plain": [
       "tensor([-0.7832, -0.7832,  0.5000], dtype=torch.float64)"
      ]
     },
     "metadata": {},
     "output_type": "display_data"
    },
    {
     "data": {
      "text/plain": [
       "tensor([-0.7031, -0.7031,  0.5000], dtype=torch.float64)"
      ]
     },
     "metadata": {},
     "output_type": "display_data"
    },
    {
     "data": {
      "text/plain": [
       "tensor([-0.7500, -0.7500,  0.5000], dtype=torch.float64)"
      ]
     },
     "metadata": {},
     "output_type": "display_data"
    },
    {
     "data": {
      "text/plain": [
       "tensor([-0.9766, -0.9766,  0.5000], dtype=torch.float64)"
      ]
     },
     "metadata": {},
     "output_type": "display_data"
    },
    {
     "data": {
      "text/plain": [
       "tensor([-0.8105, -0.8105,  0.7000], dtype=torch.float64)"
      ]
     },
     "metadata": {},
     "output_type": "display_data"
    },
    {
     "data": {
      "text/plain": [
       "tensor([-0.7812, -0.7812,  0.5000], dtype=torch.float64)"
      ]
     },
     "metadata": {},
     "output_type": "display_data"
    },
    {
     "data": {
      "text/plain": [
       "tensor([-0.7810, -0.7810,  2.0000], dtype=torch.float64)"
      ]
     },
     "metadata": {},
     "output_type": "display_data"
    },
    {
     "data": {
      "text/plain": [
       "tensor([-0.7812, -0.7812,  0.5000], dtype=torch.float64)"
      ]
     },
     "metadata": {},
     "output_type": "display_data"
    },
    {
     "data": {
      "text/plain": [
       "tensor([-0.9766, -0.9766,  1.2500], dtype=torch.float64)"
      ]
     },
     "metadata": {},
     "output_type": "display_data"
    },
    {
     "data": {
      "text/plain": [
       "tensor([-0.7051, -0.7051,  0.5000], dtype=torch.float64)"
      ]
     },
     "metadata": {},
     "output_type": "display_data"
    },
    {
     "data": {
      "text/plain": [
       "tensor([-0.7695, -0.7695,  0.5000], dtype=torch.float64)"
      ]
     },
     "metadata": {},
     "output_type": "display_data"
    }
   ],
   "source": [
    "for a in test_loader:\n",
    "    display(a['img'].affine[0, :, :-1].diagonal())"
   ]
  },
  {
   "cell_type": "code",
   "execution_count": 23,
   "id": "5423dc3f-d02c-4314-bf9b-08f7db89598e",
   "metadata": {},
   "outputs": [],
   "source": [
    "xs = np.array([a['img'].affine[0, :, :-1].diagonal().numpy() for a in test_loader])"
   ]
  },
  {
   "cell_type": "code",
   "execution_count": 30,
   "id": "04e89565-1aad-4f1f-8752-9098e747d917",
   "metadata": {},
   "outputs": [
    {
     "data": {
      "text/plain": [
       "array([-0.77197128, -0.77197128,  0.62813123])"
      ]
     },
     "execution_count": 30,
     "metadata": {},
     "output_type": "execute_result"
    }
   ],
   "source": [
    "np.mean(xs, axis=0)*1"
   ]
  },
  {
   "cell_type": "code",
   "execution_count": null,
   "id": "7def41e8-cb82-4e93-a1d6-b890ed5926f0",
   "metadata": {},
   "outputs": [],
   "source": []
  }
 ],
 "metadata": {
  "kernelspec": {
   "display_name": "Python 3 (ipykernel)",
   "language": "python",
   "name": "python3"
  },
  "language_info": {
   "codemirror_mode": {
    "name": "ipython",
    "version": 3
   },
   "file_extension": ".py",
   "mimetype": "text/x-python",
   "name": "python",
   "nbconvert_exporter": "python",
   "pygments_lexer": "ipython3",
   "version": "3.10.11"
  }
 },
 "nbformat": 4,
 "nbformat_minor": 5
}
