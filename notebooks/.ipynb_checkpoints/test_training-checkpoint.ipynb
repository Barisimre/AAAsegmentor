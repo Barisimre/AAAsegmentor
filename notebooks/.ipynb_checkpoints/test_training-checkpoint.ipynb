{
 "cells": [
  {
   "cell_type": "code",
   "execution_count": 1,
   "id": "1b33b43b-0dc1-4573-9f0b-807bce5c33d5",
   "metadata": {
    "ExecuteTime": {
     "start_time": "2023-04-23T15:45:49.442925Z",
     "end_time": "2023-04-23T15:45:51.154898Z"
    }
   },
   "outputs": [],
   "source": [
    "from src.constants import *\n",
    "from src.model.my_model import MyModel\n",
    "from src.utils.metrics import num_parameters\n",
    "from src.model.baselines import SWINUNETR, UNet\n",
    "import os"
   ]
  },
  {
   "cell_type": "code",
   "execution_count": 2,
   "id": "bd0f9c41-e86a-46ac-9692-7c46ceba276e",
   "metadata": {
    "ExecuteTime": {
     "start_time": "2023-04-23T15:45:52.727202Z",
     "end_time": "2023-04-23T15:45:52.817823Z"
    }
   },
   "outputs": [],
   "source": [
    "model = MyModel(in_channels=1,\n",
    "                out_channels=3,\n",
    "                embed_dim=256,\n",
    "                skip_transformer=False,\n",
    "                channels=(4, 16, 32, 32, 32, 32),\n",
    "                transformer_channels=(2, 8, 16, 16, 16, 16),\n",
    "                patch_size=8\n",
    "                ).to(DEVICE)\n"
   ]
  },
  {
   "cell_type": "code",
   "execution_count": 3,
   "id": "c7b8744c-c4dc-4041-9973-ef9ce7da3106",
   "metadata": {
    "ExecuteTime": {
     "start_time": "2023-04-23T15:45:53.494825Z",
     "end_time": "2023-04-23T15:45:53.573400Z"
    }
   },
   "outputs": [],
   "source": [
    "example = torch.rand(size=(1, 1, 256, 256, 256))"
   ]
  },
  {
   "cell_type": "code",
   "execution_count": 4,
   "id": "64873460-b21c-4eec-93a6-0df803b01e79",
   "metadata": {
    "ExecuteTime": {
     "start_time": "2023-04-23T15:45:54.780892Z",
     "end_time": "2023-04-23T15:46:02.910537Z"
    }
   },
   "outputs": [
    {
     "name": "stdout",
     "output_type": "stream",
     "text": [
      "torch.Size([1, 16, 128, 128, 128])\n",
      "torch.Size([1, 32, 64, 64, 64])\n",
      "torch.Size([1, 54, 32, 32, 32])\n",
      "torch.Size([1, 32, 16, 16, 16])\n",
      "torch.Size([1, 32, 8, 8, 8])\n",
      "\n",
      "torch.Size([1, 32, 16, 16, 16])\n",
      "torch.Size([1, 54, 32, 32, 32])\n",
      "torch.Size([1, 32, 64, 64, 64])\n",
      "torch.Size([1, 16, 128, 128, 128])\n",
      "torch.Size([1, 3, 256, 256, 256])\n",
      "CPU times: user 39.3 s, sys: 8.58 s, total: 47.8 s\n",
      "Wall time: 8.08 s\n"
     ]
    }
   ],
   "source": [
    "%%time\n",
    "out = model(example)\n",
    "print(out.shape)"
   ]
  },
  {
   "cell_type": "code",
   "execution_count": 5,
   "id": "ec53caba-129e-4782-bae6-3e44ff2898a5",
   "metadata": {
    "ExecuteTime": {
     "start_time": "2023-04-23T14:47:17.276408Z",
     "end_time": "2023-04-23T14:47:17.278543Z"
    }
   },
   "outputs": [
    {
     "name": "stdout",
     "output_type": "stream",
     "text": [
      "21743795\n",
      "15703029\n",
      "1203362\n"
     ]
    }
   ],
   "source": [
    "print(num_parameters(model))\n",
    "print(num_parameters(SWINUNETR))\n",
    "print(num_parameters(UNet))\n"
   ]
  },
  {
   "cell_type": "code",
   "execution_count": 13,
   "outputs": [
    {
     "data": {
      "text/plain": "[1, 2, 3]"
     },
     "execution_count": 13,
     "metadata": {},
     "output_type": "execute_result"
    }
   ],
   "source": [
    "[1] + [2,3]"
   ],
   "metadata": {
    "collapsed": false,
    "ExecuteTime": {
     "start_time": "2023-04-23T12:36:33.596358Z",
     "end_time": "2023-04-23T12:36:33.639012Z"
    }
   }
  },
  {
   "cell_type": "code",
   "execution_count": 15,
   "outputs": [
    {
     "data": {
      "text/plain": "[2, 3]"
     },
     "execution_count": 15,
     "metadata": {},
     "output_type": "execute_result"
    }
   ],
   "source": [
    "[1,2,3][1:]"
   ],
   "metadata": {
    "collapsed": false,
    "ExecuteTime": {
     "start_time": "2023-04-23T13:04:16.584366Z",
     "end_time": "2023-04-23T13:04:16.587233Z"
    }
   }
  },
  {
   "cell_type": "code",
   "execution_count": null,
   "outputs": [],
   "source": [],
   "metadata": {
    "collapsed": false
   }
  }
 ],
 "metadata": {
  "kernelspec": {
   "display_name": "Python 3 (ipykernel)",
   "language": "python",
   "name": "python3"
  },
  "language_info": {
   "codemirror_mode": {
    "name": "ipython",
    "version": 3
   },
   "file_extension": ".py",
   "mimetype": "text/x-python",
   "name": "python",
   "nbconvert_exporter": "python",
   "pygments_lexer": "ipython3",
   "version": "3.10.4"
  }
 },
 "nbformat": 4,
 "nbformat_minor": 5
}
