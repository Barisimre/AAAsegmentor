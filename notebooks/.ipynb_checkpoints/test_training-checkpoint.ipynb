{
 "cells": [
  {
   "cell_type": "code",
   "execution_count": null,
   "id": "1b33b43b-0dc1-4573-9f0b-807bce5c33d5",
   "metadata": {
    "ExecuteTime": {
     "end_time": "2023-04-23T19:52:56.084719Z",
     "start_time": "2023-04-23T19:52:53.986472Z"
    }
   },
   "outputs": [],
   "source": [
    "from src.constants import *\n",
    "from src.model.my_model import MyModel\n",
    "from src.utils.metrics import num_parameters\n",
    "from src.model.baselines import SWINUNETR, UNet\n",
    "import os\n",
    "import torch"
   ]
  },
  {
   "cell_type": "code",
   "execution_count": null,
   "id": "bd0f9c41-e86a-46ac-9692-7c46ceba276e",
   "metadata": {
    "ExecuteTime": {
     "end_time": "2023-04-23T19:52:56.290537Z",
     "start_time": "2023-04-23T19:52:56.087004Z"
    }
   },
   "outputs": [],
   "source": [
    "device = \"cuda\"\n",
    "\n",
    "model = MyModel(in_channels=1,\n",
    "                out_channels=3,\n",
    "                embed_dim=256,\n",
    "                skip_transformer=False,\n",
    "                channels=(4, 16, 32, 32, 32),\n",
    "                transformer_channels=(2, 8, 16, 16, 16),\n",
    "                patch_size=8\n",
    "                ).to(device)\n",
    "optimizer = torch.optim.Adam(params=model.parameters(), lr=LEARNING_RATES[0])\n",
    "loss_fn = torch.nn.MSELoss()"
   ]
  },
  {
   "cell_type": "code",
   "execution_count": null,
   "id": "c7b8744c-c4dc-4041-9973-ef9ce7da3106",
   "metadata": {
    "ExecuteTime": {
     "end_time": "2023-04-23T19:52:56.604026Z",
     "start_time": "2023-04-23T19:52:56.292183Z"
    }
   },
   "outputs": [],
   "source": [
    "example = torch.rand(size=(2, 1, 128, 256, 256)).to(device)\n",
    "mask = torch.rand(size=(2, 3, 128, 256, 256)).to(device)"
   ]
  },
  {
   "cell_type": "code",
   "execution_count": null,
   "id": "64873460-b21c-4eec-93a6-0df803b01e79",
   "metadata": {
    "ExecuteTime": {
     "end_time": "2023-04-23T19:53:20.918452Z",
     "start_time": "2023-04-23T19:52:56.605635Z"
    }
   },
   "outputs": [],
   "source": [
    "%%time\n",
    "out = model(example)\n",
    "loss = loss_fn(out, mask)\n",
    "loss.backward()\n",
    "optimizer.step()\n",
    "print(out.shape)"
   ]
  },
  {
   "cell_type": "code",
   "execution_count": 9,
   "id": "8fd8f55c",
   "metadata": {
    "collapsed": false,
    "jupyter": {
     "outputs_hidden": false
    }
   },
   "outputs": [
    {
     "name": "stdout",
     "output_type": "stream",
     "text": [
      "Sun Apr 23 21:25:14 2023       \n",
      "+-----------------------------------------------------------------------------+\n",
      "| NVIDIA-SMI 515.86.01    Driver Version: 515.86.01    CUDA Version: 11.7     |\n",
      "|-------------------------------+----------------------+----------------------+\n",
      "| GPU  Name        Persistence-M| Bus-Id        Disp.A | Volatile Uncorr. ECC |\n",
      "| Fan  Temp  Perf  Pwr:Usage/Cap|         Memory-Usage | GPU-Util  Compute M. |\n",
      "|                               |                      |               MIG M. |\n",
      "|===============================+======================+======================|\n",
      "|   0  NVIDIA A40          On   | 00000000:3B:00.0 Off |                    0 |\n",
      "|  0%   40C    P0    78W / 300W |  19173MiB / 46068MiB |      0%      Default |\n",
      "|                               |                      |                  N/A |\n",
      "+-------------------------------+----------------------+----------------------+\n",
      "|   1  NVIDIA A40          On   | 00000000:5E:00.0 Off |                    0 |\n",
      "|  0%   35C    P8    32W / 300W |      0MiB / 46068MiB |      0%      Default |\n",
      "|                               |                      |                  N/A |\n",
      "+-------------------------------+----------------------+----------------------+\n",
      "|   2  NVIDIA A40          On   | 00000000:B1:00.0 Off |                    0 |\n",
      "|  0%   34C    P8    29W / 300W |      0MiB / 46068MiB |      0%      Default |\n",
      "|                               |                      |                  N/A |\n",
      "+-------------------------------+----------------------+----------------------+\n",
      "|   3  NVIDIA RTX A4500    On   | 00000000:D9:00.0 Off |                  Off |\n",
      "| 30%   34C    P8    17W / 200W |      1MiB / 20470MiB |      0%      Default |\n",
      "|                               |                      |                  N/A |\n",
      "+-------------------------------+----------------------+----------------------+\n",
      "                                                                               \n",
      "+-----------------------------------------------------------------------------+\n",
      "| Processes:                                                                  |\n",
      "|  GPU   GI   CI        PID   Type   Process name                  GPU Memory |\n",
      "|        ID   ID                                                   Usage      |\n",
      "|=============================================================================|\n",
      "|    0   N/A  N/A   2424280      C   ...envs/final/bin/python3.10    19171MiB |\n",
      "+-----------------------------------------------------------------------------+\n"
     ]
    },
    {
     "data": {
      "text/plain": [
       "0"
      ]
     },
     "execution_count": 9,
     "metadata": {},
     "output_type": "execute_result"
    }
   ],
   "source": [
    "os.system('nvidia-smi')"
   ]
  },
  {
   "cell_type": "code",
   "execution_count": 5,
   "id": "ec53caba-129e-4782-bae6-3e44ff2898a5",
   "metadata": {
    "ExecuteTime": {
     "end_time": "2023-04-23T14:47:17.278543Z",
     "start_time": "2023-04-23T14:47:17.276408Z"
    }
   },
   "outputs": [
    {
     "name": "stdout",
     "output_type": "stream",
     "text": [
      "20277079\n",
      "15703029\n",
      "1203362\n"
     ]
    }
   ],
   "source": [
    "print(num_parameters(model))\n",
    "print(num_parameters(SWINUNETR))\n",
    "print(num_parameters(UNet))\n"
   ]
  },
  {
   "cell_type": "code",
   "execution_count": 1,
   "id": "4389edfb-67a8-4ef3-8d99-c8e83111bc22",
   "metadata": {},
   "outputs": [
    {
     "name": "stderr",
     "output_type": "stream",
     "text": [
      "<class 'monai.transforms.utility.array.AddChannel'>: Class `AddChannel` has been deprecated since version 0.8. please use MetaTensor data type and monai.transforms.EnsureChannelFirst instead.\n",
      "<class 'monai.transforms.utility.array.AsChannelFirst'>: Class `AsChannelFirst` has been deprecated since version 0.8. please use MetaTensor data type and monai.transforms.EnsureChannelFirst instead.\n",
      "Loading dataset: 100%|██████████| 70/70 [08:15<00:00,  7.07s/it] \n",
      "Loading dataset: 100%|██████████| 10/10 [00:28<00:00,  2.85s/it]\n"
     ]
    }
   ],
   "source": [
    "from src.data.data_loaders import get_loaders\n",
    "\n",
    "train_loader, test_loader = get_loaders()"
   ]
  },
  {
   "cell_type": "code",
   "execution_count": 2,
   "id": "c36be3c6-57c8-4feb-9a7a-aca7603f021b",
   "metadata": {},
   "outputs": [
    {
     "data": {
      "text/plain": [
       "torch.Size([1, 1, 743, 317, 317])"
      ]
     },
     "metadata": {},
     "output_type": "display_data"
    },
    {
     "data": {
      "text/plain": [
       "torch.Size([1, 1, 582, 300, 300])"
      ]
     },
     "metadata": {},
     "output_type": "display_data"
    },
    {
     "data": {
      "text/plain": [
       "torch.Size([1, 1, 510, 295, 295])"
      ]
     },
     "metadata": {},
     "output_type": "display_data"
    },
    {
     "data": {
      "text/plain": [
       "torch.Size([1, 1, 806, 317, 317])"
      ]
     },
     "metadata": {},
     "output_type": "display_data"
    },
    {
     "data": {
      "text/plain": [
       "torch.Size([1, 1, 556, 387, 387])"
      ]
     },
     "metadata": {},
     "output_type": "display_data"
    },
    {
     "data": {
      "text/plain": [
       "torch.Size([1, 1, 799, 334, 334])"
      ]
     },
     "metadata": {},
     "output_type": "display_data"
    },
    {
     "data": {
      "text/plain": [
       "torch.Size([1, 1, 687, 309, 309])"
      ]
     },
     "metadata": {},
     "output_type": "display_data"
    },
    {
     "data": {
      "text/plain": [
       "torch.Size([1, 1, 808, 317, 317])"
      ]
     },
     "metadata": {},
     "output_type": "display_data"
    },
    {
     "data": {
      "text/plain": [
       "torch.Size([1, 1, 560, 300, 300])"
      ]
     },
     "metadata": {},
     "output_type": "display_data"
    },
    {
     "data": {
      "text/plain": [
       "torch.Size([1, 1, 740, 292, 292])"
      ]
     },
     "metadata": {},
     "output_type": "display_data"
    }
   ],
   "source": [
    "for d in test_loader:\n",
    "    display(d['img'].shape)"
   ]
  },
  {
   "cell_type": "code",
   "execution_count": null,
   "id": "e7937ba2-c375-4369-b793-d3454c8ebe78",
   "metadata": {},
   "outputs": [],
   "source": []
  }
 ],
 "metadata": {
  "kernelspec": {
   "display_name": "Python 3 (ipykernel)",
   "language": "python",
   "name": "python3"
  },
  "language_info": {
   "codemirror_mode": {
    "name": "ipython",
    "version": 3
   },
   "file_extension": ".py",
   "mimetype": "text/x-python",
   "name": "python",
   "nbconvert_exporter": "python",
   "pygments_lexer": "ipython3",
   "version": "3.10.11"
  }
 },
 "nbformat": 4,
 "nbformat_minor": 5
}
