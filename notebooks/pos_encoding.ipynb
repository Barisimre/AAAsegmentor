{
 "cells": [
  {
   "cell_type": "code",
   "execution_count": 72,
   "metadata": {},
   "outputs": [],
   "source": [
    "import torch\n",
    "import numpy as np\n",
    "import torch.nn as nn\n",
    "import math\n",
    "import matplotlib.pyplot as plt\n"
   ]
  },
  {
   "cell_type": "code",
   "execution_count": 73,
   "metadata": {},
   "outputs": [],
   "source": [
    "plt.style.use('dark_background')"
   ]
  },
  {
   "cell_type": "code",
   "execution_count": 74,
   "metadata": {},
   "outputs": [],
   "source": [
    "device = \"cuda\""
   ]
  },
  {
   "cell_type": "code",
   "execution_count": 75,
   "metadata": {},
   "outputs": [],
   "source": [
    "class PositionalEncoding(nn.Module):\n",
    "\n",
    "    def __init__(self, d_model: int, dropout: float = 0.1, max_len: int = 5000):\n",
    "        super().__init__()\n",
    "        self.dropout = nn.Dropout(p=dropout)\n",
    "\n",
    "        position = torch.arange(max_len).unsqueeze(1)\n",
    "        div_term = torch.exp(torch.arange(0, d_model, 2) * (-math.log(10.0) / d_model))\n",
    "        pe = torch.zeros(size=(max_len, 1, d_model))\n",
    "        pe[:, 0, 0::2] = torch.sin(position * div_term)\n",
    "        pe[:, 0, 1::2] = torch.cos(position * div_term)\n",
    "        pe = (pe + 1.0) / 2.0\n",
    "        self.register_buffer('pe', pe)\n",
    "\n",
    "    def forward(self, x):\n",
    "        \"\"\"\n",
    "        Arguments:\n",
    "            x: Tensor, shape ``[seq_len, batch_size, embedding_dim]``\n",
    "        \"\"\"\n",
    "        x = x + self.pe[:x.size(0)]\n",
    "        print(self.pe.shape)\n",
    "        return self.dropout(x)"
   ]
  },
  {
   "cell_type": "code",
   "execution_count": 76,
   "metadata": {},
   "outputs": [],
   "source": [
    "example = torch.rand(size=(1, 2000, 512), device=device)"
   ]
  },
  {
   "cell_type": "code",
   "execution_count": 77,
   "metadata": {},
   "outputs": [],
   "source": [
    "pe = PositionalEncoding(d_model=512).to(device)"
   ]
  },
  {
   "cell_type": "code",
   "execution_count": 78,
   "metadata": {},
   "outputs": [
    {
     "name": "stdout",
     "output_type": "stream",
     "text": [
      "torch.Size([5000, 1, 512])\n"
     ]
    }
   ],
   "source": [
    "out = pe(example)"
   ]
  },
  {
   "cell_type": "code",
   "execution_count": 79,
   "metadata": {},
   "outputs": [
    {
     "data": {
      "text/plain": [
       "tensor([[[0.1553, 0.4726, 0.0728,  ..., 0.8164, 0.0126, 0.6088],\n",
       "         [0.5630, 0.2518, 0.6771,  ..., 0.8590, 0.1205, 0.4187],\n",
       "         [0.2619, 0.9516, 0.9161,  ..., 0.0590, 0.7451, 0.0344],\n",
       "         ...,\n",
       "         [0.6575, 0.3622, 0.7467,  ..., 0.7594, 0.6375, 0.9779],\n",
       "         [0.4832, 0.1039, 0.5718,  ..., 0.0870, 0.6954, 0.5688],\n",
       "         [0.6765, 0.8409, 0.0081,  ..., 0.4844, 0.7431, 0.3515]]],\n",
       "       device='cuda:0')"
      ]
     },
     "execution_count": 79,
     "metadata": {},
     "output_type": "execute_result"
    }
   ],
   "source": [
    "example"
   ]
  },
  {
   "cell_type": "code",
   "execution_count": 80,
   "metadata": {},
   "outputs": [
    {
     "data": {
      "text/plain": [
       "tensor([[[0.7281, 1.6363, 0.6365,  ..., 2.0182, 0.5696, 1.7875],\n",
       "         [1.1811, 1.3909, 1.3079,  ..., 2.0655, 0.6895, 1.5763],\n",
       "         [0.0000, 2.1684, 1.5735,  ..., 1.1766, 1.3834, 1.1494],\n",
       "         ...,\n",
       "         [1.2861, 1.5136, 1.3852,  ..., 1.9549, 0.0000, 2.1977],\n",
       "         [1.0925, 1.2266, 0.0000,  ..., 1.2078, 1.3282, 1.7431],\n",
       "         [1.3072, 0.0000, 0.0000,  ..., 1.6494, 1.3812, 1.5017]]],\n",
       "       device='cuda:0')"
      ]
     },
     "execution_count": 80,
     "metadata": {},
     "output_type": "execute_result"
    }
   ],
   "source": [
    "out"
   ]
  },
  {
   "cell_type": "code",
   "execution_count": 82,
   "metadata": {},
   "outputs": [
    {
     "data": {
      "image/png": "[encoded data removed]",
      "text/plain": [
       "<Figure size 1600x200 with 1 Axes>"
      ]
     },
     "metadata": {},
     "output_type": "display_data"
    }
   ],
   "source": [
    "pe = PositionalEncoding(d_model=512).to(device)\n",
    "cax = plt.matshow(pe.pe.cpu().squeeze(dim=1)[:5])\n",
    "# plt.gcf().colorbar(cax)"
   ]
  },
  {
   "cell_type": "code",
   "execution_count": null,
   "metadata": {},
   "outputs": [],
   "source": [
    "level_example=torch.rand()"
   ]
  }
 ],
 "metadata": {
  "kernelspec": {
   "display_name": "base",
   "language": "python",
   "name": "python3"
  },
  "language_info": {
   "codemirror_mode": {
    "name": "ipython",
    "version": 3
   },
   "file_extension": ".py",
   "mimetype": "text/x-python",
   "name": "python",
   "nbconvert_exporter": "python",
   "pygments_lexer": "ipython3",
   "version": "3.11.3"
  },
  "orig_nbformat": 4
 },
 "nbformat": 4,
 "nbformat_minor": 2
}
