{
 "cells": [
  {
   "cell_type": "code",
   "execution_count": 1,
   "metadata": {
    "ExecuteTime": {
     "end_time": "2023-04-26T11:05:36.400238Z",
     "start_time": "2023-04-26T11:05:36.395360Z"
    },
    "tags": []
   },
   "outputs": [],
   "source": [
    "from src.constants import *\n",
    "from src.model.my_model import MyModel\n",
    "from src.model.baselines import UNet\n",
    "import numpy as np\n",
    "from torch.profiler import profile, record_function, ProfilerActivity\n",
    "from src.model.blocks import *\n",
    "import torch.nn as nn"
   ]
  },
  {
   "cell_type": "code",
   "execution_count": 2,
   "metadata": {
    "ExecuteTime": {
     "end_time": "2023-04-26T11:05:36.661030Z",
     "start_time": "2023-04-26T11:05:36.623276Z"
    },
    "collapsed": false,
    "jupyter": {
     "outputs_hidden": false
    }
   },
   "outputs": [],
   "source": [
    "example2 = torch.rand(size=[2, 1, 128, 128, 128]).cuda()\n",
    "mask = torch.rand(size=[2, 3, 128, 128, 128]).cuda()\n",
    "loss_fn = monai.losses.DiceCELoss()"
   ]
  },
  {
   "cell_type": "code",
   "execution_count": 3,
   "metadata": {
    "ExecuteTime": {
     "end_time": "2023-04-26T11:05:36.935081Z",
     "start_time": "2023-04-26T11:05:36.684177Z"
    },
    "collapsed": false,
    "jupyter": {
     "outputs_hidden": false
    }
   },
   "outputs": [],
   "source": [
    "model = MyModel(in_channels=1,\n",
    "                 out_channels=3,\n",
    "                 lower_channels=32,\n",
    "                 big_channel=32,\n",
    "                 patch_size=8,\n",
    "                 embed_dim=256,\n",
    "                 skip_transformer=False).cuda()\n",
    "optimizer = torch.optim.Adam(params=model.parameters(), lr=3e-4)\n",
    "\n",
    "# model = UNet.cuda()"
   ]
  },
  {
   "cell_type": "code",
   "execution_count": 5,
   "metadata": {
    "ExecuteTime": {
     "end_time": "2023-04-26T11:05:19.159124Z",
     "start_time": "2023-04-26T11:05:18.416592Z"
    },
    "collapsed": false,
    "jupyter": {
     "outputs_hidden": false
    },
    "pycharm": {
     "is_executing": true
    }
   },
   "outputs": [
    {
     "name": "stdout",
     "output_type": "stream",
     "text": [
      "CPU times: user 267 ms, sys: 366 ms, total: 633 ms\n",
      "Wall time: 629 ms\n"
     ]
    }
   ],
   "source": [
    "%%time\n",
    "out = model(example2)\n",
    "l = loss_fn(out, mask)\n",
    "l.backward()\n",
    "optimizer.step()"
   ]
  },
  {
   "cell_type": "code",
   "execution_count": 3,
   "metadata": {},
   "outputs": [],
   "source": [
    "torch.cuda.empty_cache()"
   ]
  },
  {
   "cell_type": "code",
   "execution_count": 2,
   "metadata": {
    "collapsed": false,
    "jupyter": {
     "outputs_hidden": false
    }
   },
   "outputs": [
    {
     "name": "stderr",
     "output_type": "stream",
     "text": [
      "STAGE:2023-04-26 11:49:37 2915692:2915692 ActivityProfilerController.cpp:311] Completed Stage: Warm Up\n"
     ]
    },
    {
     "name": "stdout",
     "output_type": "stream",
     "text": [
      "-------------------------------------------------------  ------------  ------------  ------------  ------------  ------------  ------------  ------------  ------------  ------------  ------------  ------------  ------------  ------------  ------------  --------------------------------------------------------------------------------  \n",
      "                                                   Name    Self CPU %      Self CPU   CPU total %     CPU total  CPU time avg     Self CUDA   Self CUDA %    CUDA total  CUDA time avg       CPU Mem  Self CPU Mem      CUDA Mem  Self CUDA Mem    # of Calls                                                                      Input Shapes  \n",
      "-------------------------------------------------------  ------------  ------------  ------------  ------------  ------------  ------------  ------------  ------------  ------------  ------------  ------------  ------------  ------------  ------------  --------------------------------------------------------------------------------  \n",
      "                                    aten::empty_strided         0.00%      29.000us         0.09%       1.247ms     623.500us       0.000us         0.00%       0.000us       0.000us           0 b           0 b       2.00 Gb       2.00 Gb             2                                                          [[], [], [], [], [], []]  \n",
      "                                    aten::instance_norm         0.00%      14.000us         0.11%       1.494ms       1.494ms       0.000us         0.00%       6.205ms       6.205ms           0 b           0 b       1.00 Gb           0 b             1                          [[4, 32, 128, 128, 128], [], [], [], [], [], [], [], []]  \n",
      "                                       aten::batch_norm         0.00%       7.000us         0.11%       1.466ms       1.466ms       0.000us         0.00%       6.205ms       6.205ms           0 b           0 b       1.00 Gb           0 b             1                         [[1, 128, 128, 128, 128], [], [], [], [], [], [], [], []]  \n",
      "                           aten::_batch_norm_impl_index         0.00%      16.000us         0.11%       1.459ms       1.459ms       0.000us         0.00%       6.205ms       6.205ms           0 b           0 b       1.00 Gb           0 b             1                         [[1, 128, 128, 128, 128], [], [], [], [], [], [], [], []]  \n",
      "                                aten::native_batch_norm         0.01%      95.000us         0.11%       1.435ms       1.435ms       6.205ms        30.51%       6.205ms       6.205ms           0 b           0 b       1.00 Gb           0 b             1                             [[1, 128, 128, 128, 128], [], [], [], [], [], [], []]  \n",
      "                                           aten::conv3d         0.00%      16.000us        98.61%        1.330s        1.330s       0.000us         0.00%      10.323ms      10.323ms           0 b           0 b       1.00 Gb           0 b             1                   [[4, 1, 128, 128, 128], [32, 1, 3, 3, 3], [32], [], [], [], []]  \n",
      "                                aten::_convolution_mode         0.00%      22.000us        98.61%        1.330s        1.330s       0.000us         0.00%      10.323ms      10.323ms           0 b           0 b       1.00 Gb           0 b             1                   [[4, 1, 128, 128, 128], [32, 1, 3, 3, 3], [32], [], [], [], []]  \n",
      "                                      aten::convolution         0.00%      43.000us        98.60%        1.330s        1.330s       0.000us         0.00%      10.323ms      10.323ms           0 b           0 b       1.00 Gb           0 b             1           [[4, 1, 128, 128, 128], [32, 1, 3, 3, 3], [32], [], [], [], [], [], []]  \n",
      "                                     aten::_convolution         0.00%      66.000us        98.60%        1.330s        1.330s       0.000us         0.00%      10.323ms      10.323ms           0 b           0 b       1.00 Gb           0 b             1  [[4, 1, 128, 128, 128], [32, 1, 3, 3, 3], [32], [], [], [], [], [], [], [], [],   \n",
      "                                aten::cudnn_convolution         3.25%      43.880ms        98.59%        1.330s        1.330s       6.517ms        32.05%       6.517ms       6.517ms           0 b           0 b       1.00 Gb       1.00 Gb             1             [[4, 1, 128, 128, 128], [32, 1, 3, 3, 3], [], [], [], [], [], [], []]  \n",
      "                                            aten::prelu         0.00%      14.000us         0.01%     140.000us     140.000us       0.000us         0.00%       3.808ms       3.808ms           0 b           0 b       1.00 Gb           0 b             1                                                     [[4, 32, 128, 128, 128], [1]]  \n",
      "                                    aten::_prelu_kernel         0.00%      39.000us         0.01%     103.000us     103.000us       3.808ms        18.73%       3.808ms       3.808ms           0 b           0 b       1.00 Gb           0 b             1                                         [[4, 32, 128, 128, 128], [1, 1, 1, 1, 1]]  \n",
      "                                       aten::empty_like         0.00%      11.000us         0.00%      25.000us      25.000us       0.000us         0.00%       0.000us       0.000us           0 b           0 b       1.00 Gb           0 b             1                                      [[4, 32, 128, 128, 128], [], [], [], [], []]  \n",
      "                                       aten::empty_like         0.00%       3.000us         0.09%       1.236ms       1.236ms       0.000us         0.00%       0.000us       0.000us           0 b           0 b       1.00 Gb           0 b             1                                     [[1, 128, 128, 128, 128], [], [], [], [], []]  \n",
      "                                            aten::empty         0.00%      18.000us         0.00%      18.000us       6.000us       0.000us         0.00%       0.000us       0.000us           0 b           0 b       1.00 Kb       1.00 Kb             3                                                          [[], [], [], [], [], []]  \n",
      "                                  cudaStreamIsCapturing         0.00%      10.000us         0.00%      10.000us       2.500us       0.000us         0.00%       0.000us       0.000us           0 b           0 b           0 b           0 b             4                                                                                []  \n",
      "                                             cudaMalloc         0.29%       3.965ms         0.29%       3.965ms     566.429us       0.000us         0.00%       0.000us       0.000us           0 b           0 b           0 b           0 b             7                                                                                []  \n",
      "                                     cudaGetDeviceCount         0.00%       0.000us         0.00%       0.000us       0.000us       0.000us         0.00%       0.000us       0.000us           0 b           0 b           0 b           0 b             1                                                                                []  \n",
      "                                   cudaDriverGetVersion         0.00%       0.000us         0.00%       0.000us       0.000us       0.000us         0.00%       0.000us       0.000us           0 b           0 b           0 b           0 b             1                                                                                []  \n",
      "                                 cudaDeviceGetAttribute         0.00%       2.000us         0.00%       2.000us       0.062us       0.000us         0.00%       0.000us       0.000us           0 b           0 b           0 b           0 b            32                                                                                []  \n",
      "                                cudaGetDeviceProperties         0.03%     457.000us         0.03%     457.000us     457.000us       0.000us         0.00%       0.000us       0.000us           0 b           0 b           0 b           0 b             1                                                                                []  \n",
      "                              cudaStreamCreateWithFlags         8.34%     112.570ms         8.34%     112.570ms       7.036ms       0.000us         0.00%       0.000us       0.000us           0 b           0 b           0 b           0 b            16                                                                                []  \n",
      "                                        cudaMemsetAsync         0.00%      29.000us         0.00%      29.000us      29.000us       0.000us         0.00%       0.000us       0.000us           0 b           0 b           0 b           0 b             1                                                                                []  \n",
      "                                        Memset (Device)         0.00%       0.000us         0.00%       0.000us       0.000us       2.000us         0.01%       2.000us       2.000us           0 b           0 b           0 b           0 b             1                                                                                []  \n",
      "                                          cudaHostAlloc         0.07%     903.000us         0.07%     903.000us     903.000us       0.000us         0.00%       0.000us       0.000us           0 b           0 b           0 b           0 b             1                                                                                []  \n",
      "                               cudaHostGetDevicePointer         0.00%       9.000us         0.00%       9.000us       9.000us       0.000us         0.00%       0.000us       0.000us           0 b           0 b           0 b           0 b             1                                                                                []  \n",
      "                                               cudaFree        57.29%     772.947ms        57.29%     772.947ms     257.649ms       0.000us         0.00%       0.000us       0.000us           0 b           0 b           0 b           0 b             3                                                                                []  \n",
      "                                   cudaGetSymbolAddress         0.00%       1.000us         0.00%       1.000us       1.000us       0.000us         0.00%       0.000us       0.000us           0 b           0 b           0 b           0 b             1                                                                                []  \n",
      "                                  cudaStreamGetPriority         0.00%       1.000us         0.00%       1.000us       1.000us       0.000us         0.00%       0.000us       0.000us           0 b           0 b           0 b           0 b             1                                                                                []  \n",
      "                       cudaDeviceGetStreamPriorityRange         0.00%       1.000us         0.00%       1.000us       1.000us       0.000us         0.00%       0.000us       0.000us           0 b           0 b           0 b           0 b             1                                                                                []  \n",
      "                                       cudaLaunchKernel        29.40%     396.701ms        29.40%     396.701ms      44.078ms       0.000us         0.00%       0.000us       0.000us           0 b           0 b           0 b           0 b             9                                                                                []  \n",
      "void cudnn::ops::nchwToNhwcKernel<float, float, floa...         0.00%       0.000us         0.00%       0.000us       0.000us     631.000us         3.10%     631.000us     315.500us           0 b           0 b           0 b           0 b             2                                                                                []  \n",
      "sm80_xmma_fprop_implicit_gemm_indexed_wo_smem_tf32f3...         0.00%       0.000us         0.00%       0.000us       0.000us       1.990ms         9.79%       1.990ms       1.990ms           0 b           0 b           0 b           0 b             1                                                                                []  \n",
      "                                          aten::reshape         0.00%      18.000us         0.00%      23.000us      23.000us       0.000us         0.00%       0.000us       0.000us           0 b           0 b           0 b           0 b             1                                                                        [[32], []]  \n",
      "                                   aten::_reshape_alias         0.00%       5.000us         0.00%       5.000us       5.000us       0.000us         0.00%       0.000us       0.000us           0 b           0 b           0 b           0 b             1                                                                    [[32], [], []]  \n",
      "                                             aten::add_         0.00%      55.000us         0.01%      98.000us      98.000us       3.806ms        18.72%       3.806ms       3.806ms           0 b           0 b           0 b           0 b             1                                    [[4, 32, 128, 128, 128], [1, 32, 1, 1, 1], []]  \n",
      "                                          aten::reshape         0.00%       4.000us         0.00%      23.000us      23.000us       0.000us         0.00%       0.000us       0.000us           0 b           0 b           0 b           0 b             1                                                                         [[1], []]  \n",
      "                                   aten::_reshape_alias         0.00%      19.000us         0.00%      19.000us      19.000us       0.000us         0.00%       0.000us       0.000us           0 b           0 b           0 b           0 b             1                                                                     [[1], [], []]  \n",
      "                                             aten::view         0.00%       9.000us         0.00%       9.000us       9.000us       0.000us         0.00%       0.000us       0.000us           0 b           0 b           0 b           0 b             1                                                      [[4, 32, 128, 128, 128], []]  \n",
      "void cudnn::ops::nhwcToNchwKernel<float, float, floa...         0.00%       0.000us         0.00%       0.000us       0.000us       3.894ms        19.15%       3.894ms       3.894ms           0 b           0 b           0 b           0 b             1                                                                                []  \n",
      "                                          aten::reshape         0.00%       8.000us         0.00%       9.000us       4.500us       0.000us         0.00%       0.000us       0.000us           0 b           0 b           0 b           0 b             2                                                     [[1, 128, 128, 128, 128], []]  \n",
      "                                   aten::_reshape_alias         0.00%       1.000us         0.00%       1.000us       0.500us       0.000us         0.00%       0.000us       0.000us           0 b           0 b           0 b           0 b             2                                                 [[1, 128, 128, 128, 128], [], []]  \n",
      "                                             aten::view         0.00%       6.000us         0.00%       6.000us       3.000us       0.000us         0.00%       0.000us       0.000us           0 b           0 b           0 b           0 b             2                                                     [[1, 128, 128, 128, 128], []]  \n",
      "                                  cudaDeviceSynchronize         1.27%      17.166ms         1.27%      17.166ms      17.166ms       0.000us         0.00%       0.000us       0.000us           0 b           0 b           0 b           0 b             1                                                                                []  \n",
      "void at::native::elementwise_kernel<128, 2, at::nati...         0.00%       0.000us         0.00%       0.000us       0.000us       3.806ms        18.72%       3.806ms       3.806ms           0 b           0 b           0 b           0 b             1                                                                                []  \n",
      "void at::native::elementwise_kernel<128, 2, at::nati...         0.00%       0.000us         0.00%       0.000us       0.000us       3.808ms        18.73%       3.808ms       3.808ms           0 b           0 b           0 b           0 b             1                                                                                []  \n",
      "void at::native::batch_norm_collect_statistics_kerne...         0.00%       0.000us         0.00%       0.000us       0.000us       2.080ms        10.23%       2.080ms       2.080ms           0 b           0 b           0 b           0 b             1                                                                                []  \n",
      "void at::native::vectorized_elementwise_kernel<4, at...         0.00%       0.000us         0.00%       0.000us       0.000us       2.000us         0.01%       2.000us       2.000us           0 b           0 b           0 b           0 b             1                                                                                []  \n",
      "void at::native::batch_norm_transform_input_kernel<f...         0.00%       0.000us         0.00%       0.000us       0.000us       4.123ms        20.27%       4.123ms       4.123ms           0 b           0 b           0 b           0 b             1                                                                                []  \n",
      "-------------------------------------------------------  ------------  ------------  ------------  ------------  ------------  ------------  ------------  ------------  ------------  ------------  ------------  ------------  ------------  ------------  --------------------------------------------------------------------------------  \n",
      "Self CPU time total: 1.349s\n",
      "Self CUDA time total: 20.336ms\n",
      "\n"
     ]
    },
    {
     "name": "stderr",
     "output_type": "stream",
     "text": [
      "STAGE:2023-04-26 11:49:38 2915692:2915692 ActivityProfilerController.cpp:317] Completed Stage: Collection\n",
      "STAGE:2023-04-26 11:49:38 2915692:2915692 ActivityProfilerController.cpp:321] Completed Stage: Post Processing\n"
     ]
    }
   ],
   "source": [
    "model = MyModel(in_channels=1,\n",
    "                 out_channels=3,\n",
    "                 lower_channels=32,\n",
    "                 big_channel=32,\n",
    "                 patch_size=8,\n",
    "                 embed_dim=256,\n",
    "                 skip_transformer=True).cuda()\n",
    "\n",
    "# model = UNet.cuda()\n",
    "# model = SingleConvBlock(in_channels=1, out_channels=32, padding='same')\n",
    "model = nn.Conv3d(in_channels=1, out_channels=32, padding='same', kernel_size=3, stride=1)\n",
    "\n",
    "relu = nn.PReLU().cuda()\n",
    "d = nn.Dropout(p=0.1, inplace=True)\n",
    "norm = nn.InstanceNorm3d(32)\n",
    "\n",
    "\n",
    "\n",
    "model = model.cuda()\n",
    "\n",
    "inputs = torch.rand(size=[4, 1, 128, 128, 128]).cuda()\n",
    "\n",
    "with profile(activities=[ProfilerActivity.CPU, torch.profiler.ProfilerActivity.CUDA],\n",
    "        profile_memory=True, record_shapes=True, with_stack=True) as prof:\n",
    "    o = model(inputs)\n",
    "    o = relu(o)\n",
    "    # o = d(o)\n",
    "    o = norm(o)\n",
    "\n",
    "print(prof.key_averages(group_by_input_shape=True).table(sort_by=\"cuda_memory_usage\"))"
   ]
  },
  {
   "cell_type": "code",
   "execution_count": null,
   "metadata": {},
   "outputs": [],
   "source": []
  }
 ],
 "metadata": {
  "kernelspec": {
   "display_name": "Python 3 (ipykernel)",
   "language": "python",
   "name": "python3"
  },
  "language_info": {
   "codemirror_mode": {
    "name": "ipython",
    "version": 3
   },
   "file_extension": ".py",
   "mimetype": "text/x-python",
   "name": "python",
   "nbconvert_exporter": "python",
   "pygments_lexer": "ipython3",
   "version": "3.10.11"
  }
 },
 "nbformat": 4,
 "nbformat_minor": 4
}
