{
 "cells": [
  {
   "cell_type": "code",
   "execution_count": 5,
   "metadata": {
    "ExecuteTime": {
     "start_time": "2023-04-26T11:05:36.395360Z",
     "end_time": "2023-04-26T11:05:36.400238Z"
    },
    "tags": []
   },
   "outputs": [],
   "source": [
    "from src.constants import *\n",
    "from src.model.my_model import MyModel\n",
    "from src.model.baselines import UNet\n",
    "import numpy as np\n",
    "from torch.profiler import profile, record_function, ProfilerActivity"
   ]
  },
  {
   "cell_type": "code",
   "execution_count": 6,
   "metadata": {
    "ExecuteTime": {
     "start_time": "2023-04-26T11:05:36.623276Z",
     "end_time": "2023-04-26T11:05:36.661030Z"
    },
    "collapsed": false,
    "jupyter": {
     "outputs_hidden": false
    }
   },
   "outputs": [],
   "source": [
    "example2 = torch.rand(size=[2, 1, 128, 128, 128])\n",
    "mask = torch.rand(size=[2, 3, 128, 128, 128])\n",
    "loss_fn = monai.losses.DiceCELoss()"
   ]
  },
  {
   "cell_type": "code",
   "execution_count": 7,
   "metadata": {
    "ExecuteTime": {
     "start_time": "2023-04-26T11:05:36.684177Z",
     "end_time": "2023-04-26T11:05:36.935081Z"
    },
    "collapsed": false,
    "jupyter": {
     "outputs_hidden": false
    }
   },
   "outputs": [],
   "source": [
    "model = MyModel(in_channels=1,\n",
    "                 out_channels=3,\n",
    "                 lower_channels=32,\n",
    "                 big_channel=32,\n",
    "                 patch_size=8,\n",
    "                 embed_dim=256,\n",
    "                 skip_transformer=True)\n",
    "optimizer = torch.optim.Adam(params=model.parameters(), lr=3e-4)\n",
    "\n",
    "# model = UNet.cuda()"
   ]
  },
  {
   "cell_type": "code",
   "execution_count": null,
   "metadata": {
    "collapsed": false,
    "jupyter": {
     "outputs_hidden": false
    },
    "ExecuteTime": {
     "start_time": "2023-04-26T11:05:18.416592Z",
     "end_time": "2023-04-26T11:05:19.159124Z"
    },
    "pycharm": {
     "is_executing": true
    }
   },
   "outputs": [],
   "source": [
    "%%time\n",
    "out = model(example2)\n",
    "l = loss_fn(out, mask)\n",
    "l.backward()\n",
    "optimizer.step()"
   ]
  },
  {
   "cell_type": "code",
   "execution_count": 12,
   "metadata": {
    "collapsed": false,
    "jupyter": {
     "outputs_hidden": false
    }
   },
   "outputs": [
    {
     "name": "stdout",
     "output_type": "stream",
     "text": [
      "-------------------------------------------------------  ------------  ------------  ------------  ------------  ------------  ------------  ------------  ------------  ------------  ------------  \n",
      "                                                   Name    Self CPU %      Self CPU   CPU total %     CPU total  CPU time avg       CPU Mem  Self CPU Mem      CUDA Mem  Self CUDA Mem    # of Calls  \n",
      "-------------------------------------------------------  ------------  ------------  ------------  ------------  ------------  ------------  ------------  ------------  ------------  ------------  \n",
      "                                       aten::empty_like         3.23%     279.000us         8.83%     762.000us       7.327us           0 b           0 b      31.64 Gb     514.00 Mb           104  \n",
      "                                    aten::empty_strided         5.70%     492.000us         5.70%     492.000us       4.731us           0 b           0 b      31.64 Gb      31.64 Gb           104  \n",
      "                                          aten::dropout         0.74%      64.000us        11.96%       1.032ms      39.692us           0 b           0 b      12.17 Gb           0 b            26  \n",
      "                                   aten::native_dropout         5.59%     482.000us        11.22%     968.000us      37.231us           0 b           0 b      12.17 Gb    -514.00 Mb            26  \n",
      "                                    aten::instance_norm         2.14%     185.000us        27.84%       2.403ms      92.423us           0 b           0 b       9.74 Gb           0 b            26  \n",
      "                                       aten::batch_norm         0.63%      54.000us        23.68%       2.044ms      78.615us           0 b           0 b       9.74 Gb           0 b            26  \n",
      "                           aten::_batch_norm_impl_index         1.48%     128.000us        23.06%       1.990ms      76.538us           0 b           0 b       9.74 Gb           0 b            26  \n",
      "                                aten::native_batch_norm         9.57%     826.000us        20.27%       1.749ms      67.269us           0 b           0 b       9.74 Gb           0 b            26  \n",
      "                                      aten::convolution         3.33%     287.000us        40.38%       3.485ms     134.038us           0 b           0 b       9.74 Gb           0 b            26  \n",
      "                                     aten::_convolution         3.74%     323.000us        37.06%       3.198ms     123.000us           0 b           0 b       9.74 Gb           0 b            26  \n",
      "                                            aten::prelu         1.66%     143.000us        11.54%     996.000us      38.308us           0 b           0 b       9.74 Gb      16.00 Mb            26  \n",
      "                                    aten::_prelu_kernel         3.96%     342.000us         8.23%     710.000us      27.308us           0 b           0 b       9.74 Gb           0 b            26  \n",
      "                                           aten::concat         1.09%      94.000us         3.52%     304.000us      76.000us           0 b           0 b       5.64 Gb      16.00 Mb             4  \n",
      "                                              aten::cat         1.95%     168.000us         3.36%     290.000us      72.500us           0 b           0 b       5.64 Gb       5.64 Gb             4  \n",
      "                                           aten::conv3d         1.03%      89.000us        36.96%       3.190ms     145.000us           0 b           0 b       5.17 Gb           0 b            22  \n",
      "                                aten::cudnn_convolution        19.70%       1.700ms        24.04%       2.075ms      94.318us           0 b           0 b       5.17 Gb       5.17 Gb            22  \n",
      "                                 aten::conv_transpose3d         0.17%      15.000us         5.38%     464.000us     116.000us           0 b           0 b       4.57 Gb           0 b             4  \n",
      "                      aten::cudnn_convolution_transpose         2.24%     193.000us         3.04%     262.000us      65.500us           0 b           0 b       4.57 Gb       4.57 Gb             4  \n",
      "                                aten::_convolution_mode         0.75%      65.000us        26.04%       2.247ms     160.500us           0 b           0 b       4.46 Gb           0 b            14  \n",
      "                                            aten::empty         3.84%     331.000us         3.84%     331.000us       4.244us           0 b           0 b      26.00 Kb      26.00 Kb            78  \n",
      "                                  cudaStreamIsCapturing         0.08%       7.000us         0.08%       7.000us       0.135us           0 b           0 b           0 b           0 b            52  \n",
      "                                  cudaStreamGetPriority         0.02%       2.000us         0.02%       2.000us       0.077us           0 b           0 b           0 b           0 b            26  \n",
      "                       cudaDeviceGetStreamPriorityRange         0.01%       1.000us         0.01%       1.000us       0.038us           0 b           0 b           0 b           0 b            26  \n",
      "                                       cudaLaunchKernel        14.38%       1.241ms        14.38%       1.241ms       4.984us           0 b           0 b           0 b           0 b           249  \n",
      "                                          aten::reshape         3.33%     287.000us         5.28%     456.000us       4.385us           0 b           0 b           0 b           0 b           104  \n",
      "                                   aten::_reshape_alias         1.99%     172.000us         1.99%     172.000us       1.654us           0 b           0 b           0 b           0 b           104  \n",
      "                                             aten::add_         4.24%     366.000us         6.06%     523.000us      17.433us           0 b           0 b           0 b           0 b            30  \n",
      "                                             aten::view         2.10%     181.000us         2.10%     181.000us       2.321us           0 b           0 b           0 b           0 b            78  \n",
      "                                           aten::narrow         0.39%      34.000us         0.72%      62.000us       7.750us           0 b           0 b           0 b           0 b             8  \n",
      "                                            aten::slice         0.31%      27.000us         0.42%      36.000us       4.500us           0 b           0 b           0 b           0 b             8  \n",
      "                                       aten::as_strided         0.10%       9.000us         0.10%       9.000us       1.125us           0 b           0 b           0 b           0 b             8  \n",
      "cudaOccupancyMaxActiveBlocksPerMultiprocessorWithFla...         0.17%      15.000us         0.17%      15.000us       0.714us           0 b           0 b           0 b           0 b            21  \n",
      "                                        cudaMemsetAsync         0.24%      21.000us         0.24%      21.000us      10.500us           0 b           0 b           0 b           0 b             2  \n",
      "                                 cudaDeviceGetAttribute         0.02%       2.000us         0.02%       2.000us       0.500us           0 b           0 b           0 b           0 b             4  \n",
      "                                  cudaFuncGetAttributes         0.06%       5.000us         0.06%       5.000us       5.000us           0 b           0 b           0 b           0 b             1  \n",
      "                                               [memory]         0.00%       0.000us         0.00%       0.000us       0.000us           0 b           0 b     -47.02 Gb     -47.02 Gb           186  \n",
      "-------------------------------------------------------  ------------  ------------  ------------  ------------  ------------  ------------  ------------  ------------  ------------  ------------  \n",
      "Self CPU time total: 8.630ms\n",
      "\n"
     ]
    },
    {
     "name": "stderr",
     "output_type": "stream",
     "text": [
      "STAGE:2023-04-25 23:21:58 435553:435553 ActivityProfilerController.cpp:311] Completed Stage: Warm Up\n",
      "STAGE:2023-04-25 23:21:58 435553:435553 ActivityProfilerController.cpp:317] Completed Stage: Collection\n",
      "STAGE:2023-04-25 23:21:58 435553:435553 ActivityProfilerController.cpp:321] Completed Stage: Post Processing\n"
     ]
    }
   ],
   "source": [
    "inputs = torch.rand(size=[4, 1, 256, 256, 256]).cuda()\n",
    "\n",
    "with profile(activities=[ProfilerActivity.CUDA],\n",
    "        profile_memory=True, record_shapes=True) as prof:\n",
    "    model(inputs)\n",
    "\n",
    "print(prof.key_averages().table(sort_by=\"cuda_memory_usage\"))"
   ]
  },
  {
   "cell_type": "code",
   "execution_count": null,
   "metadata": {},
   "outputs": [],
   "source": []
  }
 ],
 "metadata": {
  "kernelspec": {
   "display_name": "Python 3 (ipykernel)",
   "language": "python",
   "name": "python3"
  },
  "language_info": {
   "codemirror_mode": {
    "name": "ipython",
    "version": 3
   },
   "file_extension": ".py",
   "mimetype": "text/x-python",
   "name": "python",
   "nbconvert_exporter": "python",
   "pygments_lexer": "ipython3",
   "version": "3.10.11"
  }
 },
 "nbformat": 4,
 "nbformat_minor": 4
}
