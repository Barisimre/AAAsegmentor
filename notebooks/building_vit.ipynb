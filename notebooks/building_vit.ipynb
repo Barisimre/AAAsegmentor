{
 "cells": [
  {
   "cell_type": "code",
   "execution_count": 1,
   "metadata": {
    "ExecuteTime": {
     "start_time": "2023-04-21T14:46:50.095480Z",
     "end_time": "2023-04-21T14:46:51.713187Z"
    },
    "collapsed": false,
    "jupyter": {
     "outputs_hidden": false
    }
   },
   "outputs": [],
   "source": [
    "from src.model.my_model import MyModel\n",
    "from src.model.vit import DefaultViT\n",
    "import torch\n",
    "from src.constants import *\n",
    "from src.model.baselines import SWINUNETR, UNet\n",
    "import importlib"
   ]
  },
  {
   "cell_type": "code",
   "execution_count": 2,
   "metadata": {
    "ExecuteTime": {
     "start_time": "2023-04-21T14:46:51.716892Z",
     "end_time": "2023-04-21T14:46:53.307135Z"
    },
    "collapsed": false,
    "jupyter": {
     "outputs_hidden": false
    }
   },
   "outputs": [],
   "source": [
    "device= \"cuda\"\n",
    "\n",
    "img = torch.rand(2, 1, 128, 128, 128).to(device)\n",
    "mask = torch.rand(2, 3, 128, 128, 128).to(device)\n",
    "\n",
    "tokens = torch.rand(size=(4, 1024, 256)).to(device)\n"
   ]
  },
  {
   "cell_type": "code",
   "execution_count": 3,
   "metadata": {
    "ExecuteTime": {
     "start_time": "2023-04-21T14:46:53.309515Z",
     "end_time": "2023-04-21T14:46:53.422645Z"
    },
    "collapsed": false,
    "jupyter": {
     "outputs_hidden": false
    }
   },
   "outputs": [],
   "source": [
    "model = MyModel(in_channels=1, out_channels=3, skip_transformer=False, channels=(16, 16, 16, 16, 16),transformer_channels=8, embed_dim=128).to(device)\n",
    "optimizer = torch.optim.Adam(params=model.parameters(), lr=LEARNING_RATES[0])\n",
    "\n",
    "other = UNet.to(device)"
   ]
  },
  {
   "cell_type": "code",
   "execution_count": 5,
   "metadata": {
    "ExecuteTime": {
     "start_time": "2023-04-21T14:52:14.348755Z",
     "end_time": "2023-04-21T14:52:16.345016Z"
    },
    "collapsed": false,
    "jupyter": {
     "outputs_hidden": false
    }
   },
   "outputs": [
    {
     "name": "stdout",
     "output_type": "stream",
     "text": [
      "Embed: 0.006922 seconds\n",
      "ViT: 0.003378 seconds\n",
      "De-Embed: 0.004735 seconds\n",
      "CPU times: user 1.83 s, sys: 175 ms, total: 2 s\n",
      "Wall time: 2 s\n"
     ]
    }
   ],
   "source": [
    "%%time\n",
    "out = model(img)\n",
    "loss = LOSS(out, mask)\n",
    "loss.backward()\n",
    "optimizer.step()"
   ]
  }
 ],
 "metadata": {
  "kernelspec": {
   "display_name": "Python 3 (ipykernel)",
   "language": "python",
   "name": "python3"
  },
  "language_info": {
   "codemirror_mode": {
    "name": "ipython",
    "version": 3
   },
   "file_extension": ".py",
   "mimetype": "text/x-python",
   "name": "python",
   "nbconvert_exporter": "python",
   "pygments_lexer": "ipython3",
   "version": "3.10.4"
  }
 },
 "nbformat": 4,
 "nbformat_minor": 4
}
