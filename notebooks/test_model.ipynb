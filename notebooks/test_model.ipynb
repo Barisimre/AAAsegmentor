{
 "cells": [
  {
   "cell_type": "code",
   "execution_count": 1,
   "metadata": {
    "ExecuteTime": {
     "end_time": "2023-07-20T10:24:40.506144501Z",
     "start_time": "2023-07-20T10:24:38.688501107Z"
    }
   },
   "outputs": [
    {
     "name": "stdout",
     "output_type": "stream",
     "text": [
      "/home/imreb/AAAsegmentor/notebooks\n"
     ]
    },
    {
     "name": "stderr",
     "output_type": "stream",
     "text": [
      "<class 'monai.transforms.utility.dictionary.AddChanneld'>: Class `AddChanneld` has been deprecated since version 0.8. It will be removed in version 1.3. please use MetaTensor data type and monai.transforms.EnsureChannelFirstd instead with `channel_dim='no_channel'`.\n",
      "monai.transforms.utility.dictionary EnsureChannelFirstd.__init__:meta_keys: Argument `meta_keys` has been deprecated since version 0.9. not needed if image is type `MetaTensor`.\n",
      "<class 'monai.transforms.utility.dictionary.AsChannelFirstd'>: Class `AsChannelFirstd` has been deprecated since version 0.8. It will be removed in version 1.3. please use MetaTensor data type and monai.transforms.EnsureChannelFirstd instead.\n"
     ]
    }
   ],
   "source": [
    "import os\n",
    "print(os.getcwd())\n",
    "# os.chdir(\"..\")\n",
    "\n",
    "from src.constants import *\n",
    "from src.model.my_model import MyModel\n",
    "from src.model.baselines import UNet, SWINUNETR\n",
    "import torch\n",
    "from src.utils.metrics import *\n",
    "from torch.cuda.amp import GradScaler, autocast\n",
    "from monai.networks import one_hot\n",
    "from src.data.data_loaders import get_loaders\n",
    "from tqdm import tqdm\n"
   ]
  },
  {
   "cell_type": "code",
   "execution_count": 2,
   "metadata": {
    "ExecuteTime": {
     "end_time": "2023-07-20T10:24:40.506430034Z",
     "start_time": "2023-07-20T10:24:40.503127011Z"
    }
   },
   "outputs": [],
   "source": [
    "device = \"cuda\""
   ]
  },
  {
   "cell_type": "code",
   "execution_count": null,
   "metadata": {
    "ExecuteTime": {
     "end_time": "2023-07-20T10:24:40.660779380Z",
     "start_time": "2023-07-20T10:24:40.504893618Z"
    }
   },
   "outputs": [],
   "source": [
    "# s=128\n",
    "# example = torch.rand(size=(1, 1, 256, 256, 64)).to(device)\n",
    "# mask = torch.rand(size=(4, 3, 256, 256, 64)).to(device)\n",
    "\n",
    "# example.dtype"
   ]
  },
  {
   "cell_type": "code",
   "execution_count": null,
   "metadata": {},
   "outputs": [],
   "source": [
    "train_loader, test_loader = get_loaders()\n"
   ]
  },
  {
   "cell_type": "code",
   "execution_count": 3,
   "metadata": {
    "ExecuteTime": {
     "end_time": "2023-07-20T10:24:40.804344839Z",
     "start_time": "2023-07-20T10:24:40.661474557Z"
    }
   },
   "outputs": [],
   "source": [
    "model = MyModel(in_channels=1,\n",
    "                mid_channels=4,\n",
    "                out_channels=3,\n",
    "                patch_size=(4,4,4),\n",
    "                embed_dim=256,\n",
    "                img_size=(256, 256, 64)).to(device)"
   ]
  },
  {
   "cell_type": "code",
   "execution_count": 6,
   "metadata": {},
   "outputs": [
    {
     "name": "stderr",
     "output_type": "stream",
     "text": [
      "100%|██████████| 6/6 [00:08<00:00,  1.39s/it]\n"
     ]
    }
   ],
   "source": [
    "optimizer = torch.optim.Adam(params=model.parameters(), lr=1e-4)\n",
    "losses = []\n",
    "\n",
    "for d in tqdm(train_loader):\n",
    "\n",
    "    img = d['img'].get_array(output_type=torch.Tensor).to(device)\n",
    "    mask = d['mask'].get_array(output_type=torch.Tensor).to(device)\n",
    "\n",
    "    optimizer.zero_grad()\n",
    "    outputs = model(img)\n",
    "    outputs = torch.softmax(outputs, dim=1)\n",
    "    mask = one_hot(mask, num_classes=3)\n",
    "    loss = LOSS(outputs, mask)\n",
    "    loss.backward()\n",
    "    optimizer.step()\n",
    "\n",
    "    losses.append(loss.detach().cpu().item())\n",
    "    "
   ]
  },
  {
   "cell_type": "code",
   "execution_count": 5,
   "metadata": {},
   "outputs": [],
   "source": [
    "torch.set_float32_matmul_precision(\"medium\")"
   ]
  },
  {
   "cell_type": "code",
   "execution_count": 6,
   "metadata": {},
   "outputs": [
    {
     "name": "stderr",
     "output_type": "stream",
     "text": [
      "100%|██████████| 76/76 [02:42<00:00,  2.14s/it]\n"
     ]
    }
   ],
   "source": [
    "optimizer = torch.optim.Adam(params=model.parameters(), lr=1e-4)\n",
    "scaler = GradScaler()\n",
    "mask = torch.rand(size=(2, 3, 256, 256, 64)).to(device)\n",
    "\n",
    "\n",
    "for i in tqdm(range(19*4)):\n",
    "    example = torch.rand(size=(2, 1, 256, 256, 64)).to(device)\n",
    "    out = model(example)\n",
    "    out = torch.softmax(out, dim=1)\n",
    "    loss = LOSS(out, mask)\n",
    "\n",
    "    loss.backward()\n",
    "    optimizer.step()"
   ]
  },
  {
   "cell_type": "code",
   "execution_count": 10,
   "metadata": {},
   "outputs": [
    {
     "name": "stderr",
     "output_type": "stream",
     "text": [
      "100%|██████████| 76/76 [02:14<00:00,  1.76s/it]\n"
     ]
    }
   ],
   "source": [
    "optimizer = torch.optim.Adam(params=model.parameters(), lr=1e-4)\n",
    "scaler = GradScaler()\n",
    "mask = torch.rand(size=(3, 3, 256, 256, 64)).to(device)\n",
    "\n",
    "\n",
    "for i in tqdm(range(19*4)):\n",
    "    example = torch.rand(size=(3, 1, 256, 256, 64)).to(device)\n",
    "    with autocast():\n",
    "        optimizer.zero_grad()\n",
    "\n",
    "        out = model(example)\n",
    "        out = torch.softmax(out, dim=1)\n",
    "        loss = LOSS(out, mask)\n",
    "\n",
    "    scaler.scale(loss).backward()\n",
    "    scaler.step(optimizer)\n",
    "    scaler.update()"
   ]
  },
  {
   "cell_type": "code",
   "execution_count": 21,
   "metadata": {},
   "outputs": [],
   "source": [
    "img = next(iter(train_loader))['img'].get_array(output_type=torch.Tensor).to(device)"
   ]
  }
 ],
 "metadata": {
  "kernelspec": {
   "display_name": "Python 3 (ipykernel)",
   "language": "python",
   "name": "python3"
  },
  "language_info": {
   "codemirror_mode": {
    "name": "ipython",
    "version": 3
   },
   "file_extension": ".py",
   "mimetype": "text/x-python",
   "name": "python",
   "nbconvert_exporter": "python",
   "pygments_lexer": "ipython3",
   "version": "3.10.12"
  },
  "vscode": {
   "interpreter": {
    "hash": "536d20d5d74f852d01c23bb50dad6700775709af5d7f62ed787d29dca83c7a66"
   }
  }
 },
 "nbformat": 4,
 "nbformat_minor": 4
}
