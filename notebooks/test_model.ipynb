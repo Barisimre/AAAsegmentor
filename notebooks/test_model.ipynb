{
 "cells": [
  {
   "cell_type": "code",
   "execution_count": 1,
   "metadata": {
    "ExecuteTime": {
     "end_time": "2023-07-20T10:24:40.506144501Z",
     "start_time": "2023-07-20T10:24:38.688501107Z"
    }
   },
   "outputs": [
    {
     "name": "stdout",
     "output_type": "stream",
     "text": [
      "/home/baris/Documents/AAAsegmentor/notebooks\n"
     ]
    }
   ],
   "source": [
    "import os\n",
    "print(os.getcwd())\n",
    "# os.chdir(\"..\")\n",
    "\n",
    "from src.constants import *\n",
    "from src.model.my_model import MyModel\n",
    "from src.model.baselines import UNet, SWINUNETR\n",
    "import torch\n",
    "from src.utils.metrics import *\n",
    "from torch.cuda.amp import GradScaler, autocast"
   ]
  },
  {
   "cell_type": "code",
   "execution_count": 2,
   "metadata": {
    "ExecuteTime": {
     "end_time": "2023-07-20T10:24:40.506430034Z",
     "start_time": "2023-07-20T10:24:40.503127011Z"
    }
   },
   "outputs": [],
   "source": [
    "device = \"cuda\""
   ]
  },
  {
   "cell_type": "code",
   "execution_count": 3,
   "metadata": {
    "ExecuteTime": {
     "end_time": "2023-07-20T10:24:40.660779380Z",
     "start_time": "2023-07-20T10:24:40.504893618Z"
    }
   },
   "outputs": [
    {
     "data": {
      "text/plain": "torch.float32"
     },
     "execution_count": 3,
     "metadata": {},
     "output_type": "execute_result"
    }
   ],
   "source": [
    "s=128\n",
    "example = torch.rand(size=(1, 1, 256, 256, 64)).to(device)\n",
    "mask = torch.rand(size=(1, 3, s, s, s)).to(device)\n",
    "\n",
    "example.dtype"
   ]
  },
  {
   "cell_type": "code",
   "execution_count": 4,
   "metadata": {
    "ExecuteTime": {
     "end_time": "2023-07-20T10:24:40.804344839Z",
     "start_time": "2023-07-20T10:24:40.661474557Z"
    }
   },
   "outputs": [],
   "source": [
    "model = MyModel(in_channels=1,\n",
    "                mid_channels=4,\n",
    "                out_channels=3,\n",
    "                patch_size=(4,4,4),\n",
    "                embed_dim=256,\n",
    "                img_size=(256, 256, 64)).to(device)\n"
   ]
  },
  {
   "cell_type": "code",
   "execution_count": 5,
   "metadata": {
    "ExecuteTime": {
     "end_time": "2023-07-20T10:24:44.951315734Z",
     "start_time": "2023-07-20T10:24:40.805509340Z"
    }
   },
   "outputs": [
    {
     "name": "stderr",
     "output_type": "stream",
     "text": [
      "Applied workaround for CuDNN issue, install nvrtc.so (Triggered internally at ../aten/src/ATen/native/cudnn/Conv_v8.cpp:80.)\n"
     ]
    }
   ],
   "source": [
    "with autocast():\n",
    "    out = model(example)"
   ]
  },
  {
   "cell_type": "code",
   "execution_count": 6,
   "outputs": [
    {
     "data": {
      "text/plain": "torch.Size([1, 3, 256, 256, 64])"
     },
     "execution_count": 6,
     "metadata": {},
     "output_type": "execute_result"
    }
   ],
   "source": [
    "out.shape"
   ],
   "metadata": {
    "collapsed": false,
    "ExecuteTime": {
     "end_time": "2023-07-20T10:24:44.953469585Z",
     "start_time": "2023-07-20T10:24:44.952331354Z"
    }
   }
  },
  {
   "cell_type": "code",
   "execution_count": 6,
   "metadata": {},
   "outputs": [],
   "source": [
    "import time\n",
    "import os\n",
    "import psutil\n",
    "import gpustat\n",
    "from contextlib import contextmanager\n",
    "\n",
    "@contextmanager\n",
    "def resource_monitor():\n",
    "    # CPU and RAM usage monitoring\n",
    "    process = psutil.Process(os.getpid())\n",
    "    cpu_start = process.cpu_percent(interval=None)\n",
    "    ram_start = process.memory_info().rss\n",
    "\n",
    "    # GPU usage monitoring\n",
    "    try:\n",
    "        gpu_start = gpustat.new_query().jsonify()[\"gpus\"][0][\"memory.used\"]\n",
    "    except Exception as e:\n",
    "        gpu_start = \"Unable to retrieve GPU info: {}\".format(e)\n",
    "\n",
    "    # Time monitoring\n",
    "    start_time = time.time()\n",
    "\n",
    "    yield\n",
    "\n",
    "    # Time monitoring\n",
    "    elapsed_time = time.time() - start_time\n",
    "\n",
    "    # CPU and RAM usage monitoring\n",
    "    cpu_end = process.cpu_percent(interval=None)\n",
    "    ram_end = process.memory_info().rss\n",
    "\n",
    "    # GPU usage monitoring\n",
    "    try:\n",
    "        gpu_end = gpustat.new_query().jsonify()[\"gpus\"][0][\"memory.used\"]\n",
    "    except Exception as e:\n",
    "        gpu_end = \"Unable to retrieve GPU info: {}\".format(e)\n",
    "\n",
    "    print(f'Elapsed time: {elapsed_time} seconds')\n",
    "    print(f'CPU used: {cpu_end - cpu_start} percent')\n",
    "    print(f'RAM used: {ram_end - ram_start} bytes')\n",
    "\n",
    "    if isinstance(gpu_start, float) and isinstance(gpu_end, float):\n",
    "        print(f'GPU memory used: {gpu_end - gpu_start} MiB')\n",
    "    else:\n",
    "        print(f'GPU usage: {gpu_end}')\n"
   ]
  },
  {
   "cell_type": "code",
   "execution_count": 7,
   "metadata": {},
   "outputs": [
    {
     "name": "stdout",
     "output_type": "stream",
     "text": [
      "Elapsed time: 1.1407158374786377 seconds\n",
      "CPU used: 70.7 percent\n",
      "RAM used: 1287770112 bytes\n",
      "GPU usage: 21277\n"
     ]
    }
   ],
   "source": [
    "\n",
    "# Usage example:\n",
    "with resource_monitor():\n",
    "    out = model(example) "
   ]
  },
  {
   "cell_type": "code",
   "execution_count": 8,
   "metadata": {},
   "outputs": [
    {
     "data": {
      "text/plain": [
       "torch.Size([4, 3, 256, 256, 64])"
      ]
     },
     "execution_count": 8,
     "metadata": {},
     "output_type": "execute_result"
    }
   ],
   "source": [
    "out.shape"
   ]
  },
  {
   "cell_type": "code",
   "execution_count": 9,
   "metadata": {},
   "outputs": [
    {
     "data": {
      "text/plain": [
       "0.01214992152190768"
      ]
     },
     "execution_count": 9,
     "metadata": {},
     "output_type": "execute_result"
    }
   ],
   "source": [
    "count_learnable_parameters(model.vit.embedders) / count_learnable_parameters(model.vit.vit)"
   ]
  },
  {
   "cell_type": "code",
   "execution_count": 18,
   "metadata": {},
   "outputs": [],
   "source": [
    "import torch\n",
    "from flash_attn.flash_attention import FlashMHA\n",
    "\n",
    "# Replace this with your correct GPU device\n",
    "device = \"cuda:0\"\n",
    "\n",
    "# Create attention layer. This is similar to torch.nn.MultiheadAttention,\n",
    "# and it includes the input and output linear layers\n",
    "flash_mha = FlashMHA(\n",
    "    embed_dim=256, # total channels (= num_heads * head_dim)\n",
    "    num_heads=16, # number of heads\n",
    "    device=device,\n",
    "    dtype=torch.float16,\n",
    ")\n",
    "\n",
    "# Run forward pass with dummy data\n",
    "x = torch.randn(\n",
    "    (8, 512, 256), # (batch, seqlen, embed_dim)\n",
    "    device=device,\n",
    "    dtype=torch.float16\n",
    ")\n",
    "\n",
    "output = flash_mha(x)[0]"
   ]
  },
  {
   "cell_type": "code",
   "execution_count": 15,
   "metadata": {},
   "outputs": [
    {
     "data": {
      "text/plain": [
       "torch.Size([1, 3, 128, 128, 128])"
      ]
     },
     "execution_count": 15,
     "metadata": {},
     "output_type": "execute_result"
    }
   ],
   "source": [
    "out.shape"
   ]
  },
  {
   "cell_type": "code",
   "execution_count": null,
   "metadata": {},
   "outputs": [],
   "source": []
  }
 ],
 "metadata": {
  "kernelspec": {
   "display_name": "Python 3 (ipykernel)",
   "language": "python",
   "name": "python3"
  },
  "language_info": {
   "codemirror_mode": {
    "name": "ipython",
    "version": 3
   },
   "file_extension": ".py",
   "mimetype": "text/x-python",
   "name": "python",
   "nbconvert_exporter": "python",
   "pygments_lexer": "ipython3",
   "version": "3.11.4 (main, Jul  5 2023, 13:45:01) [GCC 11.2.0]"
  },
  "vscode": {
   "interpreter": {
    "hash": "536d20d5d74f852d01c23bb50dad6700775709af5d7f62ed787d29dca83c7a66"
   }
  }
 },
 "nbformat": 4,
 "nbformat_minor": 2
}
