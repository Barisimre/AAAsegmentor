{
 "cells": [
  {
   "cell_type": "code",
   "execution_count": 1,
   "metadata": {
    "ExecuteTime": {
     "end_time": "2023-07-26T09:21:42.219287072Z",
     "start_time": "2023-07-26T09:21:40.433031547Z"
    }
   },
   "outputs": [
    {
     "name": "stdout",
     "output_type": "stream",
     "text": [
      "/home/baris/Documents/AAAsegmentor/notebooks\n"
     ]
    },
    {
     "name": "stderr",
     "output_type": "stream",
     "text": [
      "<class 'monai.transforms.utility.dictionary.AddChanneld'>: Class `AddChanneld` has been deprecated since version 0.8. It will be removed in version 1.3. please use MetaTensor data type and monai.transforms.EnsureChannelFirstd instead with `channel_dim='no_channel'`.\n",
      "monai.transforms.utility.dictionary EnsureChannelFirstd.__init__:meta_keys: Argument `meta_keys` has been deprecated since version 0.9. not needed if image is type `MetaTensor`.\n",
      "<class 'monai.transforms.utility.dictionary.AsChannelFirstd'>: Class `AsChannelFirstd` has been deprecated since version 0.8. It will be removed in version 1.3. please use MetaTensor data type and monai.transforms.EnsureChannelFirstd instead.\n"
     ]
    }
   ],
   "source": [
    "import os\n",
    "print(os.getcwd())\n",
    "# os.chdir(\"..\")\n",
    "\n",
    "from src.constants import *\n",
    "from src.model.my_model import MyModel\n",
    "from src.model.baselines import UNet, SWINUNETR\n",
    "import torch\n",
    "from src.utils.metrics import *\n",
    "from torch.cuda.amp import GradScaler, autocast\n",
    "from monai.networks import one_hot\n",
    "from src.data.data_loaders import get_loaders\n",
    "from tqdm import tqdm\n"
   ]
  },
  {
   "cell_type": "code",
   "execution_count": 2,
   "metadata": {
    "ExecuteTime": {
     "end_time": "2023-07-26T09:21:42.220849700Z",
     "start_time": "2023-07-26T09:21:42.219834788Z"
    }
   },
   "outputs": [],
   "source": [
    "device = \"cuda\""
   ]
  },
  {
   "cell_type": "code",
   "execution_count": 3,
   "metadata": {
    "ExecuteTime": {
     "end_time": "2023-07-26T09:21:42.516282220Z",
     "start_time": "2023-07-26T09:21:42.221816821Z"
    }
   },
   "outputs": [],
   "source": [
    "s=128\n",
    "mask = torch.rand(size=(4, 3, 256, 256, 64)).to(device)\n",
    "\n",
    "# example.dtype"
   ]
  },
  {
   "cell_type": "code",
   "execution_count": 4,
   "metadata": {
    "ExecuteTime": {
     "end_time": "2023-07-26T09:21:42.575697051Z",
     "start_time": "2023-07-26T09:21:42.516753576Z"
    }
   },
   "outputs": [],
   "source": [
    "model = MyModel(in_channels=1,\n",
    "                out_channels=3,\n",
    "                patch_size=(4,4,4),\n",
    "                embed_dim=128,\n",
    "                img_size=(256, 256, 64)).to(device)"
   ]
  },
  {
   "cell_type": "code",
   "execution_count": 5,
   "outputs": [
    {
     "name": "stderr",
     "output_type": "stream",
     "text": [
      "Applied workaround for CuDNN issue, install nvrtc.so (Triggered internally at ../aten/src/ATen/native/cudnn/Conv_v8.cpp:80.)\n"
     ]
    }
   ],
   "source": [
    "example = torch.rand(size=(1, 1, 256, 256, 64)).to(device)\n",
    "\n",
    "out = model(example)\n"
   ],
   "metadata": {
    "collapsed": false,
    "ExecuteTime": {
     "end_time": "2023-07-26T09:21:42.794214037Z",
     "start_time": "2023-07-26T09:21:42.576880265Z"
    }
   }
  },
  {
   "cell_type": "code",
   "execution_count": 6,
   "outputs": [
    {
     "data": {
      "text/plain": "torch.Size([1, 3, 256, 256, 64])"
     },
     "execution_count": 6,
     "metadata": {},
     "output_type": "execute_result"
    }
   ],
   "source": [
    "out.shape\n"
   ],
   "metadata": {
    "collapsed": false,
    "ExecuteTime": {
     "end_time": "2023-07-26T09:21:42.797194731Z",
     "start_time": "2023-07-26T09:21:42.795636883Z"
    }
   }
  },
  {
   "cell_type": "code",
   "execution_count": 6,
   "outputs": [],
   "source": [],
   "metadata": {
    "collapsed": false,
    "ExecuteTime": {
     "end_time": "2023-07-26T09:21:42.798417275Z",
     "start_time": "2023-07-26T09:21:42.797856108Z"
    }
   }
  }
 ],
 "metadata": {
  "kernelspec": {
   "display_name": "Python 3 (ipykernel)",
   "language": "python",
   "name": "python3"
  },
  "language_info": {
   "codemirror_mode": {
    "name": "ipython",
    "version": 3
   },
   "file_extension": ".py",
   "mimetype": "text/x-python",
   "name": "python",
   "nbconvert_exporter": "python",
   "pygments_lexer": "ipython3",
   "version": "3.10.12"
  },
  "vscode": {
   "interpreter": {
    "hash": "536d20d5d74f852d01c23bb50dad6700775709af5d7f62ed787d29dca83c7a66"
   }
  }
 },
 "nbformat": 4,
 "nbformat_minor": 4
}
