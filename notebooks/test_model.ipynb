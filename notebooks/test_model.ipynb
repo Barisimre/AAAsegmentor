{
 "cells": [
  {
   "cell_type": "code",
   "execution_count": 1,
   "metadata": {
    "ExecuteTime": {
     "end_time": "2023-07-20T10:24:40.506144501Z",
     "start_time": "2023-07-20T10:24:38.688501107Z"
    }
   },
   "outputs": [
    {
     "name": "stdout",
     "output_type": "stream",
     "text": [
      "/home/imreb/AAAsegmentor/notebooks\n"
     ]
    },
    {
     "name": "stderr",
     "output_type": "stream",
     "text": [
      "<class 'monai.transforms.utility.dictionary.AddChanneld'>: Class `AddChanneld` has been deprecated since version 0.8. It will be removed in version 1.3. please use MetaTensor data type and monai.transforms.EnsureChannelFirstd instead with `channel_dim='no_channel'`.\n",
      "monai.transforms.utility.dictionary EnsureChannelFirstd.__init__:meta_keys: Argument `meta_keys` has been deprecated since version 0.9. not needed if image is type `MetaTensor`.\n",
      "<class 'monai.transforms.utility.dictionary.AsChannelFirstd'>: Class `AsChannelFirstd` has been deprecated since version 0.8. It will be removed in version 1.3. please use MetaTensor data type and monai.transforms.EnsureChannelFirstd instead.\n"
     ]
    }
   ],
   "source": [
    "import os\n",
    "print(os.getcwd())\n",
    "# os.chdir(\"..\")\n",
    "\n",
    "from src.constants import *\n",
    "from src.model.my_model import MyModel\n",
    "from src.model.baselines import UNet, SWINUNETR\n",
    "import torch\n",
    "from src.utils.metrics import *\n",
    "from torch.cuda.amp import GradScaler, autocast\n",
    "from monai.networks import one_hot\n",
    "from src.data.data_loaders import get_loaders\n"
   ]
  },
  {
   "cell_type": "code",
   "execution_count": 2,
   "metadata": {
    "ExecuteTime": {
     "end_time": "2023-07-20T10:24:40.506430034Z",
     "start_time": "2023-07-20T10:24:40.503127011Z"
    }
   },
   "outputs": [],
   "source": [
    "device = \"cuda\""
   ]
  },
  {
   "cell_type": "code",
   "execution_count": 3,
   "metadata": {
    "ExecuteTime": {
     "end_time": "2023-07-20T10:24:40.660779380Z",
     "start_time": "2023-07-20T10:24:40.504893618Z"
    }
   },
   "outputs": [
    {
     "data": {
      "text/plain": [
       "torch.float32"
      ]
     },
     "execution_count": 3,
     "metadata": {},
     "output_type": "execute_result"
    }
   ],
   "source": [
    "s=128\n",
    "example = torch.rand(size=(1, 1, 256, 256, 64)).to(device)\n",
    "mask = torch.rand(size=(4, 3, 256, 256, 64)).to(device)\n",
    "\n",
    "example.dtype"
   ]
  },
  {
   "cell_type": "code",
   "execution_count": 4,
   "metadata": {},
   "outputs": [
    {
     "name": "stderr",
     "output_type": "stream",
     "text": [
      "Loading dataset: 100%|██████████| 4/4 [00:39<00:00,  9.87s/it]\n",
      "Loading dataset: 100%|██████████| 3/3 [00:13<00:00,  4.33s/it]\n"
     ]
    }
   ],
   "source": [
    "train_loader, test_loader = get_loaders()\n"
   ]
  },
  {
   "cell_type": "code",
   "execution_count": 5,
   "metadata": {
    "ExecuteTime": {
     "end_time": "2023-07-20T10:24:40.804344839Z",
     "start_time": "2023-07-20T10:24:40.661474557Z"
    }
   },
   "outputs": [],
   "source": [
    "model = MyModel(in_channels=1,\n",
    "                mid_channels=4,\n",
    "                out_channels=3,\n",
    "                patch_size=(4,4,4),\n",
    "                embed_dim=256,\n",
    "                img_size=(256, 256, 64)).to(device)"
   ]
  },
  {
   "cell_type": "code",
   "execution_count": 6,
   "metadata": {},
   "outputs": [],
   "source": [
    "img = next(iter(train_loader))['img'].to(device)"
   ]
  },
  {
   "cell_type": "code",
   "execution_count": 7,
   "metadata": {},
   "outputs": [
    {
     "data": {
      "text/plain": [
       "torch.Size([4, 1, 256, 256, 64])"
      ]
     },
     "execution_count": 7,
     "metadata": {},
     "output_type": "execute_result"
    }
   ],
   "source": [
    "img.shape"
   ]
  },
  {
   "cell_type": "code",
   "execution_count": 8,
   "metadata": {
    "ExecuteTime": {
     "end_time": "2023-07-20T10:24:44.951315734Z",
     "start_time": "2023-07-20T10:24:40.805509340Z"
    }
   },
   "outputs": [
    {
     "ename": "NameError",
     "evalue": "name 'train_single_epoch' is not defined",
     "output_type": "error",
     "traceback": [
      "\u001b[0;31m---------------------------------------------------------------------------\u001b[0m",
      "\u001b[0;31mNameError\u001b[0m                                 Traceback (most recent call last)",
      "Cell \u001b[0;32mIn[8], line 15\u001b[0m\n\u001b[1;32m      3\u001b[0m optimizer \u001b[38;5;241m=\u001b[39m torch\u001b[38;5;241m.\u001b[39moptim\u001b[38;5;241m.\u001b[39mAdam(params\u001b[38;5;241m=\u001b[39mmodel\u001b[38;5;241m.\u001b[39mparameters(), lr\u001b[38;5;241m=\u001b[39m\u001b[38;5;241m1e-4\u001b[39m)\n\u001b[1;32m      5\u001b[0m \u001b[38;5;66;03m# with autocast():\u001b[39;00m\n\u001b[1;32m      6\u001b[0m \u001b[38;5;66;03m#     out = model(img)\u001b[39;00m\n\u001b[1;32m      7\u001b[0m \u001b[38;5;66;03m#     outputs = torch.softmax(out, dim=1)\u001b[39;00m\n\u001b[0;32m   (...)\u001b[0m\n\u001b[1;32m     12\u001b[0m \u001b[38;5;66;03m# scaler.step(optimizer)\u001b[39;00m\n\u001b[1;32m     13\u001b[0m \u001b[38;5;66;03m# scaler.update()\u001b[39;00m\n\u001b[0;32m---> 15\u001b[0m \u001b[43mtrain_single_epoch\u001b[49m(model\u001b[38;5;241m=\u001b[39mmodel, optimizer\u001b[38;5;241m=\u001b[39moptimizer, train_loader\u001b[38;5;241m=\u001b[39mtrain_loader, scaler\u001b[38;5;241m=\u001b[39mscaler)\n",
      "\u001b[0;31mNameError\u001b[0m: name 'train_single_epoch' is not defined"
     ]
    }
   ],
   "source": [
    "scaler = GradScaler()\n",
    "\n",
    "optimizer = torch.optim.Adam(params=model.parameters(), lr=1e-4)\n",
    "\n",
    "# with autocast():\n",
    "#     out = model(img)\n",
    "#     outputs = torch.softmax(out, dim=1)\n",
    "#     # mask = one_hot(mask, num_classes=3)\n",
    "#     loss = LOSS(outputs, mask)\n",
    "\n",
    "# scaler.scale(loss).backward()\n",
    "# scaler.step(optimizer)\n",
    "# scaler.update()\n",
    "\n",
    "train_single_epoch(model=model, optimizer=optimizer, train_loader=train_loader, scaler=scaler)"
   ]
  },
  {
   "cell_type": "code",
   "execution_count": null,
   "metadata": {
    "ExecuteTime": {
     "end_time": "2023-07-20T10:24:44.953469585Z",
     "start_time": "2023-07-20T10:24:44.952331354Z"
    },
    "collapsed": false,
    "jupyter": {
     "outputs_hidden": false
    }
   },
   "outputs": [],
   "source": [
    "out.shape"
   ]
  },
  {
   "cell_type": "code",
   "execution_count": null,
   "metadata": {},
   "outputs": [],
   "source": [
    "import time\n",
    "import os\n",
    "import psutil\n",
    "import gpustat\n",
    "from contextlib import contextmanager\n",
    "\n",
    "@contextmanager\n",
    "def resource_monitor():\n",
    "    # CPU and RAM usage monitoring\n",
    "    process = psutil.Process(os.getpid())\n",
    "    cpu_start = process.cpu_percent(interval=None)\n",
    "    ram_start = process.memory_info().rss\n",
    "\n",
    "    # GPU usage monitoring\n",
    "    try:\n",
    "        gpu_start = gpustat.new_query().jsonify()[\"gpus\"][0][\"memory.used\"]\n",
    "    except Exception as e:\n",
    "        gpu_start = \"Unable to retrieve GPU info: {}\".format(e)\n",
    "\n",
    "    # Time monitoring\n",
    "    start_time = time.time()\n",
    "\n",
    "    yield\n",
    "\n",
    "    # Time monitoring\n",
    "    elapsed_time = time.time() - start_time\n",
    "\n",
    "    # CPU and RAM usage monitoring\n",
    "    cpu_end = process.cpu_percent(interval=None)\n",
    "    ram_end = process.memory_info().rss\n",
    "\n",
    "    # GPU usage monitoring\n",
    "    try:\n",
    "        gpu_end = gpustat.new_query().jsonify()[\"gpus\"][0][\"memory.used\"]\n",
    "    except Exception as e:\n",
    "        gpu_end = \"Unable to retrieve GPU info: {}\".format(e)\n",
    "\n",
    "    print(f'Elapsed time: {elapsed_time} seconds')\n",
    "    print(f'CPU used: {cpu_end - cpu_start} percent')\n",
    "    print(f'RAM used: {ram_end - ram_start} bytes')\n",
    "\n",
    "    if isinstance(gpu_start, float) and isinstance(gpu_end, float):\n",
    "        print(f'GPU memory used: {gpu_end - gpu_start} MiB')\n",
    "    else:\n",
    "        print(f'GPU usage: {gpu_end}')\n"
   ]
  },
  {
   "cell_type": "code",
   "execution_count": null,
   "metadata": {},
   "outputs": [],
   "source": [
    "\n",
    "# Usage example:\n",
    "with resource_monitor():\n",
    "    out = model(example) "
   ]
  },
  {
   "cell_type": "code",
   "execution_count": null,
   "metadata": {},
   "outputs": [],
   "source": [
    "out.shape"
   ]
  },
  {
   "cell_type": "code",
   "execution_count": null,
   "metadata": {},
   "outputs": [],
   "source": [
    "count_learnable_parameters(model.vit.embedders) / count_learnable_parameters(model.vit.vit)"
   ]
  },
  {
   "cell_type": "code",
   "execution_count": null,
   "metadata": {},
   "outputs": [],
   "source": [
    "import torch\n",
    "from flash_attn.flash_attention import FlashMHA\n",
    "\n",
    "# Replace this with your correct GPU device\n",
    "device = \"cuda:0\"\n",
    "\n",
    "# Create attention layer. This is similar to torch.nn.MultiheadAttention,\n",
    "# and it includes the input and output linear layers\n",
    "flash_mha = FlashMHA(\n",
    "    embed_dim=256, # total channels (= num_heads * head_dim)\n",
    "    num_heads=16, # number of heads\n",
    "    device=device,\n",
    "    dtype=torch.float16,\n",
    ")\n",
    "\n",
    "# Run forward pass with dummy data\n",
    "x = torch.randn(\n",
    "    (8, 512, 256), # (batch, seqlen, embed_dim)\n",
    "    device=device,\n",
    "    dtype=torch.float16\n",
    ")\n",
    "\n",
    "output = flash_mha(x)[0]"
   ]
  },
  {
   "cell_type": "code",
   "execution_count": null,
   "metadata": {},
   "outputs": [],
   "source": [
    "out.shape"
   ]
  },
  {
   "cell_type": "code",
   "execution_count": null,
   "metadata": {},
   "outputs": [],
   "source": []
  }
 ],
 "metadata": {
  "kernelspec": {
   "display_name": "Python 3 (ipykernel)",
   "language": "python",
   "name": "python3"
  },
  "language_info": {
   "codemirror_mode": {
    "name": "ipython",
    "version": 3
   },
   "file_extension": ".py",
   "mimetype": "text/x-python",
   "name": "python",
   "nbconvert_exporter": "python",
   "pygments_lexer": "ipython3",
   "version": "3.10.12"
  },
  "vscode": {
   "interpreter": {
    "hash": "536d20d5d74f852d01c23bb50dad6700775709af5d7f62ed787d29dca83c7a66"
   }
  }
 },
 "nbformat": 4,
 "nbformat_minor": 2
}
