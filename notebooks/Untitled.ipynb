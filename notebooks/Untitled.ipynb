{
 "cells": [
  {
   "cell_type": "code",
   "execution_count": 5,
   "id": "cf2d5b4f-105e-41bf-b621-4ff1922591ec",
   "metadata": {
    "ExecuteTime": {
     "start_time": "2023-04-26T11:04:49.514561Z",
     "end_time": "2023-04-26T11:04:49.533435Z"
    }
   },
   "outputs": [],
   "source": [
    "import os"
   ]
  },
  {
   "cell_type": "code",
   "execution_count": 7,
   "id": "2ee6837f-75b8-4371-840b-a3549d538598",
   "metadata": {
    "ExecuteTime": {
     "start_time": "2023-04-26T11:04:58.255402Z",
     "end_time": "2023-04-26T11:04:58.290703Z"
    }
   },
   "outputs": [
    {
     "name": "stdout",
     "output_type": "stream",
     "text": [
      "Wed Apr 26 11:04:58 2023       \n",
      "+-----------------------------------------------------------------------------+\n",
      "| NVIDIA-SMI 515.86.01    Driver Version: 515.86.01    CUDA Version: 11.7     |\n",
      "|-------------------------------+----------------------+----------------------+\n",
      "| GPU  Name        Persistence-M| Bus-Id        Disp.A | Volatile Uncorr. ECC |\n",
      "| Fan  Temp  Perf  Pwr:Usage/Cap|         Memory-Usage | GPU-Util  Compute M. |\n",
      "|                               |                      |               MIG M. |\n",
      "|===============================+======================+======================|\n",
      "|   0  NVIDIA GeForce ...  Off  | 00000000:01:00.0  On |                  N/A |\n",
      "| 40%   31C    P0    34W / 215W |    900MiB /  8192MiB |      9%      Default |\n",
      "|                               |                      |                  N/A |\n",
      "+-------------------------------+----------------------+----------------------+\n",
      "                                                                               \n",
      "+-----------------------------------------------------------------------------+\n",
      "| Processes:                                                                  |\n",
      "|  GPU   GI   CI        PID   Type   Process name                  GPU Memory |\n",
      "|        ID   ID                                                   Usage      |\n",
      "|=============================================================================|\n",
      "|    0   N/A  N/A      1821      G   /usr/lib/xorg/Xorg                479MiB |\n",
      "|    0   N/A  N/A      2329      G   ...7/usr/lib/firefox/firefox      300MiB |\n",
      "|    0   N/A  N/A      5457      G   ...RendererForSitePerProcess       18MiB |\n",
      "|    0   N/A  N/A      7496      G   MeVisLab                           34MiB |\n",
      "|    0   N/A  N/A    213765      G   nvidia-settings                     0MiB |\n",
      "|    0   N/A  N/A    230944      G   ...RendererForSitePerProcess       10MiB |\n",
      "+-----------------------------------------------------------------------------+\n"
     ]
    },
    {
     "data": {
      "text/plain": "0"
     },
     "execution_count": 7,
     "metadata": {},
     "output_type": "execute_result"
    }
   ],
   "source": [
    "os.system(\"nvidia-smi\")"
   ]
  },
  {
   "cell_type": "code",
   "execution_count": 47,
   "id": "b005a401-3ac4-4495-a655-7f585be35c36",
   "metadata": {
    "ExecuteTime": {
     "end_time": "2023-04-25T20:45:06.106196Z",
     "start_time": "2023-04-25T20:45:05.755853Z"
    }
   },
   "outputs": [],
   "source": [
    "import torch"
   ]
  },
  {
   "cell_type": "code",
   "execution_count": 2,
   "id": "6eb06ee6",
   "metadata": {
    "ExecuteTime": {
     "end_time": "2023-04-25T20:45:29.647194Z",
     "start_time": "2023-04-25T20:45:29.642659Z"
    },
    "collapsed": false,
    "jupyter": {
     "outputs_hidden": false
    }
   },
   "outputs": [],
   "source": [
    "c = torch.nn.Conv3d(in_channels=1, out_channels=1, kernel_size=3, stride=2, padding=1)"
   ]
  },
  {
   "cell_type": "code",
   "execution_count": 3,
   "id": "2f9a3d99",
   "metadata": {
    "ExecuteTime": {
     "end_time": "2023-04-25T20:45:43.636366Z",
     "start_time": "2023-04-25T20:45:43.562336Z"
    },
    "collapsed": false,
    "jupyter": {
     "outputs_hidden": false
    }
   },
   "outputs": [
    {
     "data": {
      "text/plain": [
       "torch.Size([1, 64, 64, 64])"
      ]
     },
     "execution_count": 3,
     "metadata": {},
     "output_type": "execute_result"
    }
   ],
   "source": [
    "c(torch.rand(1, 128, 128, 128)).shape"
   ]
  },
  {
   "cell_type": "code",
   "execution_count": null,
   "id": "b8b2af70",
   "metadata": {
    "collapsed": false,
    "jupyter": {
     "outputs_hidden": false
    }
   },
   "outputs": [],
   "source": []
  }
 ],
 "metadata": {
  "kernelspec": {
   "display_name": "Python 3 (ipykernel)",
   "language": "python",
   "name": "python3"
  },
  "language_info": {
   "codemirror_mode": {
    "name": "ipython",
    "version": 3
   },
   "file_extension": ".py",
   "mimetype": "text/x-python",
   "name": "python",
   "nbconvert_exporter": "python",
   "pygments_lexer": "ipython3",
   "version": "3.10.11"
  }
 },
 "nbformat": 4,
 "nbformat_minor": 5
}
