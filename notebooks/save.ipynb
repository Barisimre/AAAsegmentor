{
 "cells": [
  {
   "cell_type": "code",
   "execution_count": 17,
   "id": "31394744-2900-48bb-8363-006594003e6d",
   "metadata": {},
   "outputs": [],
   "source": [
    "import nibabel as nib\n",
    "import numpy as np\n",
    "import torch\n",
    "from src.constants import *\n",
    "import time\n",
    "import os"
   ]
  },
  {
   "cell_type": "code",
   "execution_count": 19,
   "id": "e53be1a8-d9c1-4b5d-9ce7-e76508219711",
   "metadata": {},
   "outputs": [],
   "source": [
    "save_path = f\"{RESULTS_SAVE_PATH}/{RUN_NAME}_{time.time()}\"\n",
    "os.mkdir(save_path)"
   ]
  },
  {
   "cell_type": "code",
   "execution_count": 10,
   "id": "f0308db1-5ee9-4521-884d-73426c679ec3",
   "metadata": {},
   "outputs": [],
   "source": [
    "d =  torch.rand(size=(256, 256, 256))"
   ]
  },
  {
   "cell_type": "code",
   "execution_count": 11,
   "id": "8ae86e28-5eff-45f8-b538-a8e03e7e3d35",
   "metadata": {},
   "outputs": [],
   "source": [
    "d = d.numpy()"
   ]
  },
  {
   "cell_type": "code",
   "execution_count": 13,
   "id": "0309ee0a-f5ea-4fbb-9f1f-f6b96a3a6993",
   "metadata": {},
   "outputs": [],
   "source": [
    "nifti_img = nib.Nifti1Image(d, np.eye(4))"
   ]
  },
  {
   "cell_type": "code",
   "execution_count": 20,
   "id": "5a8c1c49-e274-4d99-b7a1-03b3b1af96de",
   "metadata": {},
   "outputs": [],
   "source": [
    "nib.save(nifti_img, f\"{save_path}/test.nii.gz\")"
   ]
  },
  {
   "cell_type": "code",
   "execution_count": 21,
   "id": "3288849f-df9e-4f19-9981-2590a257da14",
   "metadata": {},
   "outputs": [
    {
     "name": "stderr",
     "output_type": "stream",
     "text": [
      "<class 'monai.transforms.utility.array.AddChannel'>: Class `AddChannel` has been deprecated since version 0.8. please use MetaTensor data type and monai.transforms.EnsureChannelFirst instead.\n",
      "<class 'monai.transforms.utility.array.AsChannelFirst'>: Class `AsChannelFirst` has been deprecated since version 0.8. please use MetaTensor data type and monai.transforms.EnsureChannelFirst instead.\n",
      "Loading dataset:  50%|█████     | 35/70 [08:47<15:25, 26.43s/it]  IOStream.flush timed out\n",
      "Loading dataset: 100%|██████████| 70/70 [12:19<00:00, 10.57s/it]\n",
      "Loading dataset: 100%|██████████| 10/10 [01:33<00:00,  9.33s/it]\n"
     ]
    }
   ],
   "source": [
    "from src.data.data_loaders import get_loaders\n",
    "\n",
    "train_loader, test_loader = get_loaders()"
   ]
  },
  {
   "cell_type": "code",
   "execution_count": null,
   "id": "c3c9f00e-2e40-4961-971b-7c44b8b19ad2",
   "metadata": {},
   "outputs": [],
   "source": []
  }
 ],
 "metadata": {
  "kernelspec": {
   "display_name": "Python 3 (ipykernel)",
   "language": "python",
   "name": "python3"
  },
  "language_info": {
   "codemirror_mode": {
    "name": "ipython",
    "version": 3
   },
   "file_extension": ".py",
   "mimetype": "text/x-python",
   "name": "python",
   "nbconvert_exporter": "python",
   "pygments_lexer": "ipython3",
   "version": "3.10.11"
  }
 },
 "nbformat": 4,
 "nbformat_minor": 5
}
