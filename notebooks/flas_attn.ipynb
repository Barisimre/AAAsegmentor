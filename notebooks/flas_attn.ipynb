{
 "cells": [
  {
   "cell_type": "code",
   "execution_count": 1,
   "metadata": {},
   "outputs": [],
   "source": [
    "import os\n",
    "\n",
    "os.chdir('..')\n",
    "\n",
    "from flash_attn.flash_attention import FlashMHA\n",
    "import torch\n",
    "from torch.nn import MultiheadAttention\n",
    "from src.utils.metrics import resource_monitor"
   ]
  },
  {
   "cell_type": "code",
   "execution_count": 2,
   "metadata": {},
   "outputs": [],
   "source": [
    "device = \"cuda\"\n",
    "embed_dim = 256\n",
    "num_heads = 16"
   ]
  },
  {
   "cell_type": "code",
   "execution_count": 3,
   "metadata": {},
   "outputs": [],
   "source": [
    "example1 = torch.rand(size=(8, 1024, embed_dim)).type(torch.float16).to(device)\n",
    "example2 = torch.rand(size=(8, 1024, embed_dim)).type(torch.float16).to(device)"
   ]
  },
  {
   "cell_type": "code",
   "execution_count": 4,
   "metadata": {},
   "outputs": [],
   "source": [
    "flash_attn = FlashMHA(embed_dim=embed_dim, num_heads=num_heads, causal=True).type(torch.float16).to(device)\n",
    "self_attention = MultiheadAttention(embed_dim, num_heads, batch_first=False).type(torch.float16).to(device)\n",
    "\n"
   ]
  },
  {
   "cell_type": "code",
   "execution_count": 5,
   "metadata": {},
   "outputs": [
    {
     "name": "stdout",
     "output_type": "stream",
     "text": [
      "Elapsed time: 0.3828620910644531 seconds\n",
      "CPU used: 79.3 percent\n",
      "RAM used: 645603328 bytes\n",
      "GPU usage: 655\n"
     ]
    }
   ],
   "source": [
    "with resource_monitor():\n",
    "    x, _ = flash_attn(example2)"
   ]
  },
  {
   "cell_type": "code",
   "execution_count": 6,
   "metadata": {},
   "outputs": [
    {
     "name": "stdout",
     "output_type": "stream",
     "text": [
      "Elapsed time: 0.0032324790954589844 seconds\n",
      "CPU used: 9.1 percent\n",
      "RAM used: 1568768 bytes\n",
      "GPU usage: 667\n"
     ]
    },
    {
     "ename": "",
     "evalue": "",
     "output_type": "error",
     "traceback": [
      "\u001b[1;31mThe Kernel crashed while executing code in the the current cell or a previous cell. Please review the code in the cell(s) to identify a possible cause of the failure. Click <a href='https://aka.ms/vscodeJupyterKernelCrash'>here</a> for more info. View Jupyter <a href='command:jupyter.viewOutput'>log</a> for further details."
     ]
    }
   ],
   "source": [
    "with resource_monitor():\n",
    "    x, _ = self_attention(example1, example1, example1, need_weights=False)"
   ]
  },
  {
   "cell_type": "code",
   "execution_count": null,
   "metadata": {},
   "outputs": [],
   "source": []
  }
 ],
 "metadata": {
  "kernelspec": {
   "display_name": "AAAsegmentor",
   "language": "python",
   "name": "python3"
  },
  "language_info": {
   "codemirror_mode": {
    "name": "ipython",
    "version": 3
   },
   "file_extension": ".py",
   "mimetype": "text/x-python",
   "name": "python",
   "nbconvert_exporter": "python",
   "pygments_lexer": "ipython3",
   "version": "3.11.4"
  },
  "orig_nbformat": 4,
  "vscode": {
   "interpreter": {
    "hash": "536d20d5d74f852d01c23bb50dad6700775709af5d7f62ed787d29dca83c7a66"
   }
  }
 },
 "nbformat": 4,
 "nbformat_minor": 2
}
